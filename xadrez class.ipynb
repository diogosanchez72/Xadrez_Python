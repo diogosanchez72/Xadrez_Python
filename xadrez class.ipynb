{
 "cells": [
  {
   "cell_type": "code",
   "execution_count": 1,
   "source": [
    "import copy"
   ],
   "outputs": [],
   "metadata": {}
  },
  {
   "cell_type": "code",
   "execution_count": 2,
   "source": [
    "class Conversa:\r\n",
    "    def __init__(self,pergunta,resposta=[],cod_resposta=[]):\r\n",
    "        self.pergunta=pergunta\r\n",
    "        self.resposta=resposta\r\n",
    "        self.cod_resposta=cod_resposta\r\n",
    "        dicionario=dict(zip(self.resposta,self.cod_resposta))\r\n",
    "    \r\n",
    "\r\n",
    "    def setrespostas(self,respostas,cod_respostas):\r\n",
    "        for i in respostas:\r\n",
    "            if i in self.resposta:\r\n",
    "                print('tem resposta repetida')\r\n",
    "                return\r\n",
    "        self.resposta=(self.resposta+respostas)\r\n",
    "        self.cod_resposta=self.cod_resposta+[cod_respostas]*len(respostas)\r\n",
    "        dicionario=dict(zip(self.resposta,self.cod_resposta))\r\n",
    "\r\n",
    "\r\n",
    "    def playstr(self,confirma=True,minuscula=True):\r\n",
    "        dicionario=dict(zip(self.resposta,self.cod_resposta))\r\n",
    "        if minuscula:\r\n",
    "            self.resposta=([i.lower() for i in self.resposta])\r\n",
    "            dicionario=dict(zip(self.resposta,self.cod_resposta))\r\n",
    "        \r\n",
    "        a='2Rkk39'\r\n",
    "        contador=0\r\n",
    "        bteste= True\r\n",
    "        while not a in self.resposta and bteste==True:\r\n",
    "            contador+=1\r\n",
    "            a=input(self.pergunta)\r\n",
    "            if minuscula:\r\n",
    "                self.resposta=[i.lower() for i in self.resposta]\r\n",
    "                a=a.lower()\r\n",
    "            if not a in self.resposta:\r\n",
    "                if contador > 4 and contador%3==2:\r\n",
    "                    print(f'''as respostas possiveis são {\"' - '\".join(self.resposta)}''')\r\n",
    "                continue\r\n",
    "            if confirma:\r\n",
    "                sim=['sim','yes','desejo','ss']\r\n",
    "                nao=['não','nao','no','nop','não desejo','nao confirmo','não confirmo','n','nn']\r\n",
    "                b='aaaaaaa'\r\n",
    "                while not b.lower() in sim+nao:\r\n",
    "                    b=input(f'''Confirma que a sua resposta é '{a}' ?''')\r\n",
    "                if b.lower() in sim:\r\n",
    "                    bteste=False\r\n",
    "                    break\r\n",
    "                if b.lower() in nao:\r\n",
    "                    a='RjKjmkLmk98556'\r\n",
    "        return dicionario[a]\r\n",
    "\r\n",
    "\r\n",
    "    def playnum(self,chave=int,confirma=True,limites=(False,[0,0])):\r\n",
    "        a='KlKh95+68,,,,s'\r\n",
    "        bteste=True\r\n",
    "        if chave!=int and chave!=float:\r\n",
    "            print('Por favor defina uma chave!!')\r\n",
    "            return\r\n",
    "        while not a.isdigit() and bteste==True:\r\n",
    "            a=input(self.pergunta)\r\n",
    "            if a[0]=='-':\r\n",
    "                correcao=-1\r\n",
    "                a=a[1:]\r\n",
    "            else:\r\n",
    "                correcao=1\r\n",
    "\r\n",
    "            limites1=[i+0.0 for i in limites[1]]\r\n",
    "\r\n",
    "            aa=float(a)*correcao\r\n",
    "\r\n",
    "            if limites[0]:\r\n",
    "                if len(limites[1])>2 and not aa in limites1:\r\n",
    "                    print(f'''{aa} está fora do limite definido como: {\";\".join([str(i) for i in limites[1]])}''')\r\n",
    "                    a='errou vamos dnv'\r\n",
    "                    continue\r\n",
    "                elif aa<min(limites[1]) or aa>max(limites[1]):\r\n",
    "                    print(f'{aa} está fora do intervalo definido como: {min(limites[1])}, {max(limites[1])}')\r\n",
    "                    bteste=True\r\n",
    "                    a='skaoko'\r\n",
    "                    continue\r\n",
    "\r\n",
    "            if confirma:\r\n",
    "                sim=['sim','yes','desejo','ss']\r\n",
    "                nao=['não','nao','no','nop','não desejo','nao confirmo','não confirmo','n','nn']\r\n",
    "                b='aaaaaaa'\r\n",
    "                while not b.lower() in sim+nao:\r\n",
    "                    b=input(f'''Confirma que a sua resposta é '{aa}' ?''')\r\n",
    "                if b.lower() in sim:\r\n",
    "                    bteste=False\r\n",
    "                if b.lower() in nao:\r\n",
    "                    a='RjKjmkLmk98556'\r\n",
    "                    continue\r\n",
    "        a=aa\r\n",
    "        if chave==int:\r\n",
    "            a=int(float(a))\r\n",
    "        elif chave==float:\r\n",
    "            a=float(a)\r\n",
    "        return a\r\n",
    "                    \r\n",
    "    def show(self):\r\n",
    "        dicionario=dict(zip(self.resposta,self.cod_resposta))\r\n",
    "        print(self.pergunta,'\\n')\r\n",
    "        for i in set(self.cod_resposta):\r\n",
    "            texto=[j for j in self.resposta if dicionario[j]==i]\r\n",
    "            print(f'chave:{i} \\nrespostas: {texto} \\n \\n ')\r\n",
    "    \r\n",
    "    def delcode(self,cod):\r\n",
    "        dicionario=dict(zip(self.resposta,self.cod_resposta))\r\n",
    "        self.resposta=[i for i in self.resposta if dicionario[i] != cod]\r\n",
    "        self.cod_resposta=[i for i in self.cod_resposta if i!= cod]"
   ],
   "outputs": [],
   "metadata": {}
  },
  {
   "cell_type": "code",
   "execution_count": 3,
   "source": [
    "escolhe_cor=Conversa('Qual cor você deseja jogar?')\r\n",
    "escolhe_cor.setrespostas(['brancas','branco','branca','branco','white','brancos'],1) #Brancas é 1\r\n",
    "escolhe_cor.setrespostas(['pretas','negras','pretos','negros','preta','negra','preto','negro'],0) #Negras é 0\r\n",
    "escolhe_cor.playstr()"
   ],
   "outputs": [
    {
     "output_type": "execute_result",
     "data": {
      "text/plain": [
       "1"
      ]
     },
     "metadata": {},
     "execution_count": 3
    }
   ],
   "metadata": {}
  },
  {
   "cell_type": "code",
   "execution_count": 16,
   "source": [
    "letras=['A','B','C','D','E','F','G','H']\r\n",
    "tabuleiro_vazio=[]\r\n",
    "for i in range(7,-1,-1):\r\n",
    "    linha=[]\r\n",
    "    for k in range(8):\r\n",
    "        linha.append(letras[k]+str(i+1))\r\n",
    "    tabuleiro_vazio.append(linha)"
   ],
   "outputs": [],
   "metadata": {}
  },
  {
   "cell_type": "code",
   "execution_count": 18,
   "source": [
    "jogo_start=[['NeT', 'NeC', 'NeB', 'NeD', 'NeR', 'NeB', 'NeC', 'NeT'],\r\n",
    " ['NeP', 'NeP', 'NeP', 'NeP', 'NeP', 'NeP', 'NeP', 'NeP'],\r\n",
    " ['', '', '', '', '', '', '', ''],\r\n",
    " ['', '', '', '', '', '', '', ''],\r\n",
    " ['', '', '', '', '', '', '', ''],\r\n",
    " ['', '', '', '', '', '', '', ''],\r\n",
    " ['BrP', 'BrP', 'BrP', 'BrP', 'BrP', 'BrP', 'BrP', 'BrP'],\r\n",
    " ['BrT', 'BrC', 'BrB', 'BrD', 'BrR', 'BrB', 'BrC', 'BrT']]\r\n",
    "\r\n",
    "tabuleiro_vazio\r\n"
   ],
   "outputs": [
    {
     "output_type": "execute_result",
     "data": {
      "text/plain": [
       "[['A8', 'B8', 'C8', 'D8', 'E8', 'F8', 'G8', 'H8'],\n",
       " ['A7', 'B7', 'C7', 'D7', 'E7', 'F7', 'G7', 'H7'],\n",
       " ['A6', 'B6', 'C6', 'D6', 'E6', 'F6', 'G6', 'H6'],\n",
       " ['A5', 'B5', 'C5', 'D5', 'E5', 'F5', 'G5', 'H5'],\n",
       " ['A4', 'B4', 'C4', 'D4', 'E4', 'F4', 'G4', 'H4'],\n",
       " ['A3', 'B3', 'C3', 'D3', 'E3', 'F3', 'G3', 'H3'],\n",
       " ['A2', 'B2', 'C2', 'D2', 'E2', 'F2', 'G2', 'H2'],\n",
       " ['A1', 'B1', 'C1', 'D1', 'E1', 'F1', 'G1', 'H1']]"
      ]
     },
     "metadata": {},
     "execution_count": 18
    }
   ],
   "metadata": {}
  },
  {
   "cell_type": "code",
   "execution_count": 20,
   "source": [
    "let_num('B2')"
   ],
   "outputs": [
    {
     "output_type": "execute_result",
     "data": {
      "text/plain": [
       "(6, 1)"
      ]
     },
     "metadata": {},
     "execution_count": 20
    }
   ],
   "metadata": {}
  },
  {
   "cell_type": "code",
   "execution_count": 6,
   "source": [
    "rei=[[-1, -1], [-1, 0], [-1, 1], [0, -1], [0, 0], [0, 1], [1, -1], [1, 0], [1, 1]]\r\n",
    "cavalo=[[2, 1], [1, 2], [2, -1], [-1, 2], [-2, 1], [1, -2], [-2, -1], [-1, -2]]\r\n",
    "\r\n",
    "torre=[ ([i,0],[0,i]) for i in range(-8,9)]\r\n",
    "torre=[i[0] for i in torre]+[i[1] for i in torre] #Por Default\r\n",
    "\r\n",
    "\r\n",
    "bispo=[[i,i] for i in range(-8,9)]\r\n",
    "bispo+=[[i,-i] for i in range(-8,9)] #por default\r\n",
    "\r\n",
    "dama=torre+bispo #por default\r\n",
    "\r\n",
    "peao_b=[[1,0],[2,0],[1,1],[1,-1]]\r\n",
    "peao_n=[[-1,0],[-2,0],[-1,-1],[-1,1]] "
   ],
   "outputs": [],
   "metadata": {}
  },
  {
   "cell_type": "code",
   "execution_count": 7,
   "source": [
    "def let_num(texto):\r\n",
    "    i=letras.index(texto[0])\r\n",
    "    j=8-int(texto[1])\r\n",
    "    return j,i\r\n",
    "print(let_num('E1'))\r\n",
    "print(jogo_start[7][4])\r\n",
    "\r\n",
    "\r\n"
   ],
   "outputs": [
    {
     "output_type": "stream",
     "name": "stdout",
     "text": [
      "(7, 4)\n",
      "BrR\n"
     ]
    }
   ],
   "metadata": {}
  },
  {
   "cell_type": "code",
   "execution_count": 8,
   "source": [
    "def movimento(posicao,linhas,colunas,jogo):\r\n",
    "    'Aplica o movimento atualizando a matriz jogo'\r\n",
    "  \r\n",
    "    jogo1=[i[:] for i in copy.deepcopy(jogo)] ########## Não sei porque mas o copy() não trabalha tive que jogar um bomba nuclear pra ele começar a funcionar\r\n",
    "\r\n",
    "    i,j=let_num(posicao) #pega a posição em texto e transforma pra número\r\n",
    "    peca=jogo1[i][j] #salva a peça\r\n",
    "    jogo1[i][j]=\"\" # apaga a peça\r\n",
    "\r\n",
    "    i-=linhas\r\n",
    "    j+=colunas\r\n",
    "    jogo1[i][j]=peca #coloca a peça\r\n",
    "    return jogo1 #retorna o novo jogo\r\n",
    "\r\n",
    "a=movimento('G1',2,-1,jogo_start)\r\n",
    "#Cavalo de G1 pra F3 \r\n",
    "#for i in jogo_start:\r\n",
    "#    print(i)"
   ],
   "outputs": [],
   "metadata": {}
  },
  {
   "cell_type": "code",
   "execution_count": 9,
   "source": [
    "def destino(posicao,linhas,colunas):\r\n",
    "    'Retorna a casa destino dada uma posição inicial + linhas e colunas que deseja movimentar, retorna uma posicao'\r\n",
    "    i,j=let_num(posicao) #pega a posição em texto e transforma pra número\r\n",
    "\r\n",
    "    i-=linhas\r\n",
    "    j+=colunas\r\n",
    "    if i > 7 or j>8:\r\n",
    "        return \"\"\r\n",
    "    elif i<0 or j<0:\r\n",
    "        return \"\"\r\n",
    "    else:\r\n",
    "        return tabuleiro_vazio[i][j] #retorna nova posição"
   ],
   "outputs": [],
   "metadata": {}
  },
  {
   "cell_type": "code",
   "execution_count": 236,
   "source": [],
   "outputs": [
    {
     "output_type": "execute_result",
     "data": {
      "text/plain": [
       "''"
      ]
     },
     "metadata": {},
     "execution_count": 236
    }
   ],
   "metadata": {}
  },
  {
   "cell_type": "code",
   "execution_count": 10,
   "source": [
    "def search_peca(posicao,jogo,cor=False):\r\n",
    "    'Dada a posição da peça e o jogo vc sabe qual peça esta naquela posição'\r\n",
    "    i,j=let_num(posicao)\r\n",
    "    if cor==True:\r\n",
    "        if jogo[i][j]==\"\":\r\n",
    "            pass\r\n",
    "        else:\r\n",
    "            return jogo[i][j][0]\r\n",
    "\r\n",
    "    return jogo[i][j]"
   ],
   "outputs": [],
   "metadata": {}
  },
  {
   "cell_type": "code",
   "execution_count": 11,
   "source": [
    "\r\n",
    "def apenas_dentro_tabuleiro(posicao,lista):\r\n",
    "    'Dada uma lista de movimentos possiveis (linhas e coluna) essa função elimina todas que estão fora do tabuleiro'\r\n",
    "    retorno=[]\r\n",
    "    for x,y in lista:\r\n",
    "        if destino(posicao,x,y)!=\"\":\r\n",
    "            retorno.append([x,y])\r\n",
    "    return retorno\r\n",
    "\r\n",
    "def anti_sobreposicao(jogo,posicao:str,conjunto:list):\r\n",
    "    'Dada uma lista de possiveis movimentos, a função elimina movimentos que causariam sobreposição (peça branca em cima de peça branca)'\r\n",
    "    jogo1=[i[:] for i in copy.deepcopy(jogo)]\r\n",
    "    peca=search_peca(posicao,jogo1)\r\n",
    "    cor=peca[0]\r\n",
    "    retorno=[]\r\n",
    "    for x,y in conjunto:\r\n",
    "        if search_peca(destino(posicao,x,y),jogo1,True)!=cor:\r\n",
    "            retorno.append([x,y])\r\n",
    "    return retorno\r\n"
   ],
   "outputs": [],
   "metadata": {}
  },
  {
   "cell_type": "code",
   "execution_count": 21,
   "source": [
    "let_num('D3')"
   ],
   "outputs": [
    {
     "output_type": "execute_result",
     "data": {
      "text/plain": [
       "(5, 3)"
      ]
     },
     "metadata": {},
     "execution_count": 21
    }
   ],
   "metadata": {}
  },
  {
   "cell_type": "code",
   "execution_count": 39,
   "source": [
    "def jogadas_possiveis(posicao:str,jogo:list,tipo= int):\r\n",
    "    jogo1=[i[:] for i in copy.deepcopy(jogo)]\r\n",
    "\r\n",
    "    i,j=let_num(posicao)\r\n",
    "    peca=jogo1[i][j]\r\n",
    "    print(peca)\r\n",
    "    cor=peca[0]\r\n",
    "    conjunto=[]\r\n",
    "    \r\n",
    "    if peca[-1]=='R':#Rei\r\n",
    "        conjunto=rei\r\n",
    "\r\n",
    "\r\n",
    "    elif peca[-1]=='C': #Cavalo\r\n",
    "        conjunto=cavalo\r\n",
    "\r\n",
    "\r\n",
    "    elif peca[-1]=='P': #Peão\r\n",
    "        if cor =='N':\r\n",
    "            conjunto=peao_n\r\n",
    "        elif cor == 'B':\r\n",
    "            conjunto=peao_b\r\n",
    "        if not let_num(posicao)[0] in [1,6]:\r\n",
    "            conjunto=[[x,y] for x,y in conjunto if abs(x)<2 and abs(y)<2]\r\n",
    "\r\n",
    "\r\n",
    "    elif peca[-1]=='T': #Torre\r\n",
    "        vertical=[]\r\n",
    "        \r\n",
    "        for num in range(0,i,1): #sobe horizontalmente\r\n",
    "            if num ==0:\r\n",
    "                continue\r\n",
    "            vertical.append([num,0])\r\n",
    "            if search_peca(destino(posicao,num,0),jogo1) != \"\":\r\n",
    "                break\r\n",
    "\r\n",
    "        for num in range(0,8-i,-1): #desce horizontalmente\r\n",
    "            if num ==0:\r\n",
    "                continue\r\n",
    "            vertical.append([num,0])\r\n",
    "            if search_peca(destino(posicao,num,0),jogo1) != \"\":#B\r\n",
    "                break\r\n",
    "\r\n",
    "        for num in range(0,8-j,-1): #verticalmente a esquerda\r\n",
    "            if num ==0:\r\n",
    "                continue\r\n",
    "            vertical.append([0,num])\r\n",
    "            if search_peca(destino(posicao,0,num),jogo1) != \"\":\r\n",
    "                break\r\n",
    "\r\n",
    "\r\n",
    "        for num in range(0,j,1): #verticalmente a direita\r\n",
    "            if num ==0:\r\n",
    "                continue\r\n",
    "            vertical.append([0,num])\r\n",
    "            if search_peca(destino(posicao,0,num),jogo1) != \"\":\r\n",
    "                break\r\n",
    "        conjunto=vertical.copy()\r\n",
    "\r\n",
    "    \r\n",
    "\r\n",
    "    elif peca[-1]=='B': #bispo\r\n",
    "        vertical=[]\r\n",
    "        p1 = min(i,7-j)\r\n",
    "        p2 = min(i,j)\r\n",
    "        p3 = min(j,7-i)\r\n",
    "        p4 = min(7-j,7-i)\r\n",
    "        for num in range(0,p1,1): #1º quadrante\r\n",
    "            if num ==0:\r\n",
    "                continue\r\n",
    "            vertical.append([num,num])\r\n",
    "            if search_peca(destino(posicao,num,num),jogo1) != \"\":\r\n",
    "                break\r\n",
    "\r\n",
    "        for num in range(0,p2): #2ºquadrante\r\n",
    "            if num ==0:\r\n",
    "                continue\r\n",
    "            vertical.append([num,-num])\r\n",
    "            if search_peca(destino(posicao,num,-num),jogo1) != \"\":\r\n",
    "                break\r\n",
    "\r\n",
    "        for num in range(0,p3): #3º quadrante\r\n",
    "            if num ==0:\r\n",
    "                continue\r\n",
    "            vertical.append([-num,-num])\r\n",
    "            if search_peca(destino(posicao,-num,-num),jogo1) != \"\":\r\n",
    "                break\r\n",
    "\r\n",
    "        for num in range(0,p4,1): #4º quadrante\r\n",
    "            if num ==0:\r\n",
    "                continue\r\n",
    "            vertical.append([-num,num])\r\n",
    "            if search_peca(destino(posicao,-num,num),jogo1) != \"\":\r\n",
    "                break\r\n",
    "\r\n",
    "        \r\n",
    "    elif peca[-1]=='D': #Dama\r\n",
    "        vertical=[]\r\n",
    "        \r\n",
    "        for num in range(0,i,1): #sobe horizontalmente\r\n",
    "            if num ==0:\r\n",
    "                continue\r\n",
    "            vertical.append([num,0])\r\n",
    "            if search_peca(destino(posicao,num,0),jogo1) != \"\":\r\n",
    "                break\r\n",
    "\r\n",
    "        for num in range(0,8-i,-1): #desce horizontalmente\r\n",
    "            if num ==0:\r\n",
    "                continue\r\n",
    "            vertical.append([num,0])\r\n",
    "            if search_peca(destino(posicao,num,0),jogo1) != \"\":\r\n",
    "                break\r\n",
    "\r\n",
    "        for num in range(0,8-j,-1): #verticalmente a esquerda\r\n",
    "            if num ==0:\r\n",
    "                continue\r\n",
    "            vertical.append([0,num])\r\n",
    "            if search_peca(destino(posicao,0,num),jogo1) != \"\":\r\n",
    "                break\r\n",
    "\r\n",
    "\r\n",
    "        for num in range(0,j,1): #verticalmente a direita\r\n",
    "            if num ==0:\r\n",
    "                continue\r\n",
    "            vertical.append([0,num])\r\n",
    "            if search_peca(destino(posicao,0,num),jogo1) != \"\":\r\n",
    "                break\r\n",
    "\r\n",
    "        p1 = min(i,7-j)\r\n",
    "        p2 = min(i,j)\r\n",
    "        p3 = min(j,7-i)\r\n",
    "        p4 = min(7-j,7-i)\r\n",
    "        for num in range(0,p1,1): #1º quadrante\r\n",
    "            if num ==0:\r\n",
    "                continue\r\n",
    "            vertical.append([num,num])\r\n",
    "            if search_peca(destino(posicao,num,num),jogo1) != \"\":\r\n",
    "                break\r\n",
    "\r\n",
    "        for num in range(0,p2): #2ºquadrante\r\n",
    "            if num ==0:\r\n",
    "                continue\r\n",
    "            vertical.append([num,-num])\r\n",
    "            if search_peca(destino(posicao,num,-num),jogo1) != \"\":\r\n",
    "                break\r\n",
    "\r\n",
    "        for num in range(0,p3): #3º quadrante\r\n",
    "            if num ==0:\r\n",
    "                continue\r\n",
    "            vertical.append([-num,-num])\r\n",
    "            if search_peca(destino(posicao,-num,-num),jogo1) != \"\":\r\n",
    "                break\r\n",
    "\r\n",
    "        for num in range(0,p4,1): #4º quadrante\r\n",
    "            if num ==0:\r\n",
    "                continue\r\n",
    "            vertical.append([-num,num])\r\n",
    "            if search_peca(destino(posicao,-num,num),jogo1) != \"\":\r\n",
    "                break\r\n",
    "            \r\n",
    "\r\n",
    "    conjunto=apenas_dentro_tabuleiro(posicao,conjunto)\r\n",
    "    conjunto=anti_sobreposicao(jogo1,posicao,conjunto)\r\n",
    "    print(conjunto)\r\n",
    "\r\n",
    "\r\n",
    "\r\n",
    "    conjunto=[i for i in conjunto if not i==\"\"]\r\n",
    "\r\n",
    "    if tipo==str:\r\n",
    "        conjunto=[ destino(posicao,x,y) for x,y in conjunto ]\r\n",
    "    return conjunto\r\n",
    "\r\n",
    "\r\n"
   ],
   "outputs": [],
   "metadata": {}
  },
  {
   "cell_type": "code",
   "execution_count": 35,
   "source": [
    "jogo_input=movimento('A2',2,0,jogo_start)\r\n",
    "jogo_input=movimento('B2',2,0,jogo_input)\r\n",
    "jogo_input=movimento('C2',2,0,jogo_input)\r\n",
    "jogo_input=movimento('D2',2,0,jogo_input)\r\n",
    "jogo_input=movimento('E2',2,0,jogo_input)\r\n",
    "jogo_input=movimento('F2',2,0,jogo_input)\r\n",
    "jogo_input=movimento('G2',2,0,jogo_input)\r\n",
    "jogo_input=movimento('H2',2,0,jogo_input)\r\n",
    "jogo_input"
   ],
   "outputs": [
    {
     "output_type": "execute_result",
     "data": {
      "text/plain": [
       "[['NeT', 'NeC', 'NeB', 'NeD', 'NeR', 'NeB', 'NeC', 'NeT'],\n",
       " ['NeP', 'NeP', 'NeP', 'NeP', 'NeP', 'NeP', 'NeP', 'NeP'],\n",
       " ['', '', '', '', '', '', '', ''],\n",
       " ['', '', '', '', '', '', '', ''],\n",
       " ['BrP', 'BrP', 'BrP', 'BrP', 'BrP', 'BrP', 'BrP', 'BrP'],\n",
       " ['', '', '', '', '', '', '', ''],\n",
       " ['', '', '', '', '', '', '', ''],\n",
       " ['BrT', 'BrC', 'BrB', 'BrD', 'BrR', 'BrB', 'BrC', 'BrT']]"
      ]
     },
     "metadata": {},
     "execution_count": 35
    }
   ],
   "metadata": {}
  },
  {
   "cell_type": "code",
   "execution_count": 43,
   "source": [
    "jogadas_possiveis('H1',jogo_input,str)"
   ],
   "outputs": [
    {
     "output_type": "stream",
     "name": "stdout",
     "text": [
      "BrT\n"
     ]
    },
    {
     "output_type": "error",
     "ename": "IndexError",
     "evalue": "list index out of range",
     "traceback": [
      "\u001b[1;31m---------------------------------------------------------------------------\u001b[0m",
      "\u001b[1;31mIndexError\u001b[0m                                Traceback (most recent call last)",
      "\u001b[1;32m~\\AppData\\Local\\Temp/ipykernel_18776/3779636268.py\u001b[0m in \u001b[0;36m<module>\u001b[1;34m\u001b[0m\n\u001b[1;32m----> 1\u001b[1;33m \u001b[0mjogadas_possiveis\u001b[0m\u001b[1;33m(\u001b[0m\u001b[1;34m'H1'\u001b[0m\u001b[1;33m,\u001b[0m\u001b[0mjogo_input\u001b[0m\u001b[1;33m,\u001b[0m\u001b[0mstr\u001b[0m\u001b[1;33m)\u001b[0m\u001b[1;33m\u001b[0m\u001b[1;33m\u001b[0m\u001b[0m\n\u001b[0m",
      "\u001b[1;32m~\\AppData\\Local\\Temp/ipykernel_18776/957710619.py\u001b[0m in \u001b[0;36mjogadas_possiveis\u001b[1;34m(posicao, jogo, tipo)\u001b[0m\n\u001b[0;32m     54\u001b[0m                 \u001b[1;32mcontinue\u001b[0m\u001b[1;33m\u001b[0m\u001b[1;33m\u001b[0m\u001b[0m\n\u001b[0;32m     55\u001b[0m             \u001b[0mvertical\u001b[0m\u001b[1;33m.\u001b[0m\u001b[0mappend\u001b[0m\u001b[1;33m(\u001b[0m\u001b[1;33m[\u001b[0m\u001b[1;36m0\u001b[0m\u001b[1;33m,\u001b[0m\u001b[0mnum\u001b[0m\u001b[1;33m]\u001b[0m\u001b[1;33m)\u001b[0m\u001b[1;33m\u001b[0m\u001b[1;33m\u001b[0m\u001b[0m\n\u001b[1;32m---> 56\u001b[1;33m             \u001b[1;32mif\u001b[0m \u001b[0msearch_peca\u001b[0m\u001b[1;33m(\u001b[0m\u001b[0mdestino\u001b[0m\u001b[1;33m(\u001b[0m\u001b[0mposicao\u001b[0m\u001b[1;33m,\u001b[0m\u001b[1;36m0\u001b[0m\u001b[1;33m,\u001b[0m\u001b[0mnum\u001b[0m\u001b[1;33m)\u001b[0m\u001b[1;33m,\u001b[0m\u001b[0mjogo1\u001b[0m\u001b[1;33m)\u001b[0m \u001b[1;33m!=\u001b[0m \u001b[1;34m\"\"\u001b[0m\u001b[1;33m:\u001b[0m\u001b[1;33m\u001b[0m\u001b[1;33m\u001b[0m\u001b[0m\n\u001b[0m\u001b[0;32m     57\u001b[0m                 \u001b[1;32mbreak\u001b[0m\u001b[1;33m\u001b[0m\u001b[1;33m\u001b[0m\u001b[0m\n\u001b[0;32m     58\u001b[0m         \u001b[0mconjunto\u001b[0m\u001b[1;33m=\u001b[0m\u001b[0mvertical\u001b[0m\u001b[1;33m.\u001b[0m\u001b[0mcopy\u001b[0m\u001b[1;33m(\u001b[0m\u001b[1;33m)\u001b[0m\u001b[1;33m\u001b[0m\u001b[1;33m\u001b[0m\u001b[0m\n",
      "\u001b[1;32m~\\AppData\\Local\\Temp/ipykernel_18776/2347035832.py\u001b[0m in \u001b[0;36mdestino\u001b[1;34m(posicao, linhas, colunas)\u001b[0m\n\u001b[0;32m     10\u001b[0m         \u001b[1;32mreturn\u001b[0m \u001b[1;34m\"\"\u001b[0m\u001b[1;33m\u001b[0m\u001b[1;33m\u001b[0m\u001b[0m\n\u001b[0;32m     11\u001b[0m     \u001b[1;32melse\u001b[0m\u001b[1;33m:\u001b[0m\u001b[1;33m\u001b[0m\u001b[1;33m\u001b[0m\u001b[0m\n\u001b[1;32m---> 12\u001b[1;33m         \u001b[1;32mreturn\u001b[0m \u001b[0mtabuleiro_vazio\u001b[0m\u001b[1;33m[\u001b[0m\u001b[0mi\u001b[0m\u001b[1;33m]\u001b[0m\u001b[1;33m[\u001b[0m\u001b[0mj\u001b[0m\u001b[1;33m]\u001b[0m \u001b[1;31m#retorna nova posição\u001b[0m\u001b[1;33m\u001b[0m\u001b[1;33m\u001b[0m\u001b[0m\n\u001b[0m",
      "\u001b[1;31mIndexError\u001b[0m: list index out of range"
     ]
    }
   ],
   "metadata": {}
  },
  {
   "cell_type": "code",
   "execution_count": 258,
   "source": [
    "let_num('A5')"
   ],
   "outputs": [
    {
     "output_type": "execute_result",
     "data": {
      "text/plain": [
       "(3, 0)"
      ]
     },
     "metadata": {},
     "execution_count": 258
    }
   ],
   "metadata": {}
  },
  {
   "cell_type": "code",
   "execution_count": null,
   "source": [
    "class Chess():\r\n",
    "    def __init__(self):\r\n",
    "        self.vez=0 #brancas\r\n",
    "        self.jogadores='Br'\r\n",
    "        self.jogo=jogo_start\r\n",
    "\r\n",
    "    def play(self):\r\n",
    "        for i in tabuleiro_vazio:\r\n",
    "            print(i)\r\n",
    "        print(\"\\n\\n\")\r\n",
    "        for i in self.jogo:\r\n",
    "            print (i)\r\n",
    "        pergunta=input('Deseja jogar de BRANCAS?')\r\n",
    "        if pergunta.lower() in ['sim','si','s','desejo','quero','yes','ok','qero','qiero']:\r\n",
    "            while True:\r\n",
    "                pass"
   ],
   "outputs": [],
   "metadata": {}
  }
 ],
 "metadata": {
  "orig_nbformat": 4,
  "language_info": {
   "name": "python",
   "version": "3.9.7",
   "mimetype": "text/x-python",
   "codemirror_mode": {
    "name": "ipython",
    "version": 3
   },
   "pygments_lexer": "ipython3",
   "nbconvert_exporter": "python",
   "file_extension": ".py"
  },
  "kernelspec": {
   "name": "python3",
   "display_name": "Python 3.9.7 64-bit"
  },
  "interpreter": {
   "hash": "09d8611f38b064ca2594bca0cde57f51ccc32e33177f657a36872d444ba23277"
  }
 },
 "nbformat": 4,
 "nbformat_minor": 2
}