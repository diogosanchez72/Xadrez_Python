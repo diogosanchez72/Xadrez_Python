{
 "cells": [
  {
   "cell_type": "code",
   "execution_count": 504,
   "source": [
    "import copy\r\n",
    "import numpy as np\r\n",
    "from functools import reduce"
   ],
   "outputs": [],
   "metadata": {}
  },
  {
   "cell_type": "code",
   "execution_count": 505,
   "source": [
    "class Conversa:\r\n",
    "    def __init__(self,pergunta,resposta=[],cod_resposta=[]):\r\n",
    "        self.pergunta=pergunta\r\n",
    "        self.resposta=resposta\r\n",
    "        self.cod_resposta=cod_resposta\r\n",
    "        dicionario=dict(zip(self.resposta,self.cod_resposta))\r\n",
    "    \r\n",
    "\r\n",
    "    def setrespostas(self,respostas,cod_respostas):\r\n",
    "        for i in respostas:\r\n",
    "            if i in self.resposta:\r\n",
    "                print('tem resposta repetida')\r\n",
    "                return\r\n",
    "        self.resposta=(self.resposta+respostas)\r\n",
    "        self.cod_resposta=self.cod_resposta+[cod_respostas]*len(respostas)\r\n",
    "        dicionario=dict(zip(self.resposta,self.cod_resposta))\r\n",
    "\r\n",
    "\r\n",
    "    def playstr(self,confirma=True,minuscula=True):\r\n",
    "        dicionario=dict(zip(self.resposta,self.cod_resposta))\r\n",
    "        if minuscula:\r\n",
    "            self.resposta=([i.lower() for i in self.resposta])\r\n",
    "            dicionario=dict(zip(self.resposta,self.cod_resposta))\r\n",
    "        \r\n",
    "        a='2Rkk39'\r\n",
    "        contador=0\r\n",
    "        bteste= True\r\n",
    "        while not a in self.resposta and bteste==True:\r\n",
    "            contador+=1\r\n",
    "            a=input(self.pergunta)\r\n",
    "            if minuscula:\r\n",
    "                self.resposta=[i.lower() for i in self.resposta]\r\n",
    "                a=a.lower()\r\n",
    "            if not a in self.resposta:\r\n",
    "                if contador > 4 and contador%3==2:\r\n",
    "                    print(f'''as respostas possiveis são {\"' - '\".join(self.resposta)}''')\r\n",
    "                continue\r\n",
    "            if confirma:\r\n",
    "                sim=['sim','yes','desejo','ss']\r\n",
    "                nao=['não','nao','no','nop','não desejo','nao confirmo','não confirmo','n','nn']\r\n",
    "                b='aaaaaaa'\r\n",
    "                while not b.lower() in sim+nao:\r\n",
    "                    b=input(f'''Confirma que a sua resposta é '{a}' ?''')\r\n",
    "                if b.lower() in sim:\r\n",
    "                    bteste=False\r\n",
    "                    break\r\n",
    "                if b.lower() in nao:\r\n",
    "                    a='RjKjmkLmk98556'\r\n",
    "        return dicionario[a]\r\n",
    "\r\n",
    "\r\n",
    "    def playnum(self,chave=int,confirma=True,limites=(False,[0,0])):\r\n",
    "        a='KlKh95+68,,,,s'\r\n",
    "        bteste=True\r\n",
    "        if chave!=int and chave!=float:\r\n",
    "            print('Por favor defina uma chave!!')\r\n",
    "            return\r\n",
    "        while not a.isdigit() and bteste==True:\r\n",
    "            a=input(self.pergunta)\r\n",
    "            if a[0]=='-':\r\n",
    "                correcao=-1\r\n",
    "                a=a[1:]\r\n",
    "            else:\r\n",
    "                correcao=1\r\n",
    "\r\n",
    "            limites1=[i+0.0 for i in limites[1]]\r\n",
    "\r\n",
    "            aa=float(a)*correcao\r\n",
    "\r\n",
    "            if limites[0]:\r\n",
    "                if len(limites[1])>2 and not aa in limites1:\r\n",
    "                    print(f'''{aa} está fora do limite definido como: {\";\".join([str(i) for i in limites[1]])}''')\r\n",
    "                    a='errou vamos dnv'\r\n",
    "                    continue\r\n",
    "                elif aa<min(limites[1]) or aa>max(limites[1]):\r\n",
    "                    print(f'{aa} está fora do intervalo definido como: {min(limites[1])}, {max(limites[1])}')\r\n",
    "                    bteste=True\r\n",
    "                    a='skaoko'\r\n",
    "                    continue\r\n",
    "\r\n",
    "            if confirma:\r\n",
    "                sim=['sim','yes','desejo','ss']\r\n",
    "                nao=['não','nao','no','nop','não desejo','nao confirmo','não confirmo','n','nn']\r\n",
    "                b='aaaaaaa'\r\n",
    "                while not b.lower() in sim+nao:\r\n",
    "                    b=input(f'''Confirma que a sua resposta é '{aa}' ?''')\r\n",
    "                if b.lower() in sim:\r\n",
    "                    bteste=False\r\n",
    "                if b.lower() in nao:\r\n",
    "                    a='RjKjmkLmk98556'\r\n",
    "                    continue\r\n",
    "        a=aa\r\n",
    "        if chave==int:\r\n",
    "            a=int(float(a))\r\n",
    "        elif chave==float:\r\n",
    "            a=float(a)\r\n",
    "        return a\r\n",
    "                    \r\n",
    "    def show(self):\r\n",
    "        dicionario=dict(zip(self.resposta,self.cod_resposta))\r\n",
    "        print(self.pergunta,'\\n')\r\n",
    "        for i in set(self.cod_resposta):\r\n",
    "            texto=[j for j in self.resposta if dicionario[j]==i]\r\n",
    "            print(f'chave:{i} \\nrespostas: {texto} \\n \\n ')\r\n",
    "    \r\n",
    "    def delcode(self,cod):\r\n",
    "        dicionario=dict(zip(self.resposta,self.cod_resposta))\r\n",
    "        self.resposta=[i for i in self.resposta if dicionario[i] != cod]\r\n",
    "        self.cod_resposta=[i for i in self.cod_resposta if i!= cod]"
   ],
   "outputs": [],
   "metadata": {}
  },
  {
   "cell_type": "code",
   "execution_count": 539,
   "source": [
    "letras=['A','B','C','D','E','F','G','H']\r\n",
    "tabuleiro_vazio=[]\r\n",
    "for i in range(7,-1,-1):\r\n",
    "    linha=[]\r\n",
    "    for k in range(8):\r\n",
    "        linha.append(letras[k]+str(i+1))\r\n",
    "    tabuleiro_vazio.append(linha)\r\n",
    "tabuleiro_vazio"
   ],
   "outputs": [
    {
     "output_type": "execute_result",
     "data": {
      "text/plain": [
       "[['A8', 'B8', 'C8', 'D8', 'E8', 'F8', 'G8', 'H8'],\n",
       " ['A7', 'B7', 'C7', 'D7', 'E7', 'F7', 'G7', 'H7'],\n",
       " ['A6', 'B6', 'C6', 'D6', 'E6', 'F6', 'G6', 'H6'],\n",
       " ['A5', 'B5', 'C5', 'D5', 'E5', 'F5', 'G5', 'H5'],\n",
       " ['A4', 'B4', 'C4', 'D4', 'E4', 'F4', 'G4', 'H4'],\n",
       " ['A3', 'B3', 'C3', 'D3', 'E3', 'F3', 'G3', 'H3'],\n",
       " ['A2', 'B2', 'C2', 'D2', 'E2', 'F2', 'G2', 'H2'],\n",
       " ['A1', 'B1', 'C1', 'D1', 'E1', 'F1', 'G1', 'H1']]"
      ]
     },
     "metadata": {},
     "execution_count": 539
    }
   ],
   "metadata": {}
  },
  {
   "cell_type": "code",
   "execution_count": 507,
   "source": [
    "jogo_start=[['NeT', 'NeC', 'NeB', 'NeD', 'NeR', 'NeB', 'NeC', 'NeT'],\r\n",
    " ['NeP', 'NeP', 'NeP', 'NeP', 'NeP', 'NeP', 'NeP', 'NeP'],\r\n",
    " ['', '', '', '', '', '', '', ''],\r\n",
    " ['', '', '', '', '', '', '', ''],\r\n",
    " ['', '', '', '', '', '', '', ''],\r\n",
    " ['', '', '', '', '', '', '', ''],\r\n",
    " ['BrP', 'BrP', 'BrP', 'BrP', 'BrP', 'BrP', 'BrP', 'BrP'],\r\n",
    " ['BrT', 'BrC', 'BrB', 'BrD', 'BrR', 'BrB', 'BrC', 'BrT']]\r\n",
    "\r\n",
    "tabuleiro_vazio\r\n"
   ],
   "outputs": [
    {
     "output_type": "execute_result",
     "data": {
      "text/plain": [
       "[['A8', 'B8', 'C8', 'D8', 'E8', 'F8', 'G8', 'H8'],\n",
       " ['A7', 'B7', 'C7', 'D7', 'E7', 'F7', 'G7', 'H7'],\n",
       " ['A6', 'B6', 'C6', 'D6', 'E6', 'F6', 'G6', 'H6'],\n",
       " ['A5', 'B5', 'C5', 'D5', 'E5', 'F5', 'G5', 'H5'],\n",
       " ['A4', 'B4', 'C4', 'D4', 'E4', 'F4', 'G4', 'H4'],\n",
       " ['A3', 'B3', 'C3', 'D3', 'E3', 'F3', 'G3', 'H3'],\n",
       " ['A2', 'B2', 'C2', 'D2', 'E2', 'F2', 'G2', 'H2'],\n",
       " ['A1', 'B1', 'C1', 'D1', 'E1', 'F1', 'G1', 'H1']]"
      ]
     },
     "metadata": {},
     "execution_count": 507
    }
   ],
   "metadata": {}
  },
  {
   "cell_type": "code",
   "execution_count": 541,
   "source": [
    "rei=[[-1, -1], [-1, 0], [-1, 1], [0, -1], [0, 0], [0, 1], [1, -1], [1, 0], [1, 1]]\r\n",
    "cavalo=[[2, 1], [1, 2], [2, -1], [-1, 2], [-2, 1], [1, -2], [-2, -1], [-1, -2]]\r\n",
    "\r\n",
    "torre=[ ([i,0],[0,i]) for i in range(-8,9)]\r\n",
    "torre=[i[0] for i in torre]+[i[1] for i in torre] #Por Default\r\n",
    "\r\n",
    "\r\n",
    "bispo=[[i,i] for i in range(-8,9)]\r\n",
    "bispo+=[[i,-i] for i in range(-8,9)] #por default\r\n",
    "\r\n",
    "dama=torre+bispo #por default\r\n",
    "\r\n",
    "peao_b=[[1,0],[2,0]]\r\n",
    "peao_n=[[-1,0],[-2,0]] "
   ],
   "outputs": [],
   "metadata": {}
  },
  {
   "cell_type": "code",
   "execution_count": 544,
   "source": [
    "tabuleiro_vazio"
   ],
   "outputs": [
    {
     "output_type": "execute_result",
     "data": {
      "text/plain": [
       "[['A8', 'B8', 'C8', 'D8', 'E8', 'F8', 'G8', 'H8'],\n",
       " ['A7', 'B7', 'C7', 'D7', 'E7', 'F7', 'G7', 'H7'],\n",
       " ['A6', 'B6', 'C6', 'D6', 'E6', 'F6', 'G6', 'H6'],\n",
       " ['A5', 'B5', 'C5', 'D5', 'E5', 'F5', 'G5', 'H5'],\n",
       " ['A4', 'B4', 'C4', 'D4', 'E4', 'F4', 'G4', 'H4'],\n",
       " ['A3', 'B3', 'C3', 'D3', 'E3', 'F3', 'G3', 'H3'],\n",
       " ['A2', 'B2', 'C2', 'D2', 'E2', 'F2', 'G2', 'H2'],\n",
       " ['A1', 'B1', 'C1', 'D1', 'E1', 'F1', 'G1', 'H1']]"
      ]
     },
     "metadata": {},
     "execution_count": 544
    }
   ],
   "metadata": {}
  },
  {
   "cell_type": "code",
   "execution_count": 509,
   "source": [
    "def let_num(texto):\r\n",
    "    i=letras.index(texto[0])\r\n",
    "    j=8-int(texto[1])\r\n",
    "    return j,i\r\n",
    "print(let_num('E1'))\r\n",
    "print(jogo_start[7][4])\r\n",
    "\r\n",
    "\r\n"
   ],
   "outputs": [
    {
     "output_type": "stream",
     "name": "stdout",
     "text": [
      "(7, 4)\n",
      "BrR\n"
     ]
    }
   ],
   "metadata": {}
  },
  {
   "cell_type": "code",
   "execution_count": 547,
   "source": [
    "def movimento(posicao,linhas,colunas,jogo):\r\n",
    "    'Aplica o movimento atualizando a matriz jogo'\r\n",
    "  \r\n",
    "    jogo1=[i[:] for i in copy.deepcopy(jogo)] ########## Não sei porque mas o copy() não trabalha tive que jogar um bomba nuclear pra ele começar a funcionar\r\n",
    "\r\n",
    "    i,j=let_num(posicao) #pega a posição em texto e transforma pra número\r\n",
    "    peca=jogo1[i][j] #salva a peça\r\n",
    "    jogo1[i][j]=\"\" # apaga a peça\r\n",
    "\r\n",
    "    i-=linhas\r\n",
    "    j+=colunas\r\n",
    "    jogo1[i][j]=peca #coloca a peça\r\n",
    "    return jogo1 #retorna o novo jogo\r\n",
    "\r\n",
    "a=movimento('G1',2,-1,jogo_start)\r\n",
    "#Cavalo de G1 pra F3 \r\n",
    "#for i in jogo_start:\r\n",
    "#    print(i)"
   ],
   "outputs": [],
   "metadata": {}
  },
  {
   "cell_type": "code",
   "execution_count": 548,
   "source": [
    "def destino(posicao,linhas,colunas):\r\n",
    "    'Retorna a casa destino dada uma posição inicial + linhas e colunas que deseja movimentar, retorna uma posicao'\r\n",
    "    if posicao == \"\":\r\n",
    "        return \"\"\r\n",
    "    i,j=let_num(posicao) #pega a posição em texto e transforma pra número\r\n",
    "\r\n",
    "    i-=linhas\r\n",
    "    j+=colunas\r\n",
    "    if i > 7 or j>7:\r\n",
    "        return \"\"\r\n",
    "    elif i<0 or j<0:\r\n",
    "        return \"\"\r\n",
    "    else:\r\n",
    "        return tabuleiro_vazio[i][j] #retorna nova posição"
   ],
   "outputs": [],
   "metadata": {}
  },
  {
   "cell_type": "code",
   "execution_count": 550,
   "source": [
    "destino(\"G1\",2,-1)"
   ],
   "outputs": [
    {
     "output_type": "execute_result",
     "data": {
      "text/plain": [
       "'F3'"
      ]
     },
     "metadata": {},
     "execution_count": 550
    }
   ],
   "metadata": {}
  },
  {
   "cell_type": "code",
   "execution_count": null,
   "source": [],
   "outputs": [],
   "metadata": {}
  },
  {
   "cell_type": "code",
   "execution_count": 551,
   "source": [
    "def search_peca(posicao,jogo,cor=False):\r\n",
    "    'Dada a posição da peça e o jogo vc sabe qual peça esta naquela posição'\r\n",
    "    if len(posicao)!=2:\r\n",
    "        return \"\"\r\n",
    "    i,j=let_num(posicao)\r\n",
    "    if cor==True:\r\n",
    "        if jogo[i][j]==\"\":\r\n",
    "            pass\r\n",
    "        else:\r\n",
    "            return jogo[i][j][0]\r\n",
    "\r\n",
    "    return jogo[i][j]"
   ],
   "outputs": [],
   "metadata": {}
  },
  {
   "cell_type": "code",
   "execution_count": 552,
   "source": [
    "search_peca('A1',jogo_start)"
   ],
   "outputs": [
    {
     "output_type": "execute_result",
     "data": {
      "text/plain": [
       "'BrT'"
      ]
     },
     "metadata": {},
     "execution_count": 552
    }
   ],
   "metadata": {}
  },
  {
   "cell_type": "code",
   "execution_count": 513,
   "source": [
    "\r\n",
    "def apenas_dentro_tabuleiro(posicao,lista):\r\n",
    "    'Dada uma lista de movimentos possiveis (linhas e coluna) essa função elimina todas que estão fora do tabuleiro'\r\n",
    "    retorno=[]\r\n",
    "    for x,y in lista:\r\n",
    "        if destino(posicao,x,y)!=\"\":\r\n",
    "            retorno.append([x,y])\r\n",
    "    return retorno\r\n",
    "\r\n",
    "def anti_sobreposicao(jogo,posicao:str,conjunto:list):\r\n",
    "    'Dada uma lista de possiveis movimentos, a função elimina movimentos que causariam sobreposição (peça branca em cima de peça branca)'\r\n",
    "    jogo1=[i[:] for i in copy.deepcopy(jogo)]\r\n",
    "    peca=search_peca(posicao,jogo1)\r\n",
    "    cor=peca[0]\r\n",
    "    retorno=[]\r\n",
    "    for x,y in conjunto:\r\n",
    "        if search_peca(destino(posicao,x,y),jogo1,True)!=cor:\r\n",
    "            retorno.append([x,y])\r\n",
    "    return retorno\r\n"
   ],
   "outputs": [],
   "metadata": {}
  },
  {
   "cell_type": "code",
   "execution_count": 514,
   "source": [
    "let_num('D3')"
   ],
   "outputs": [
    {
     "output_type": "execute_result",
     "data": {
      "text/plain": [
       "(5, 3)"
      ]
     },
     "metadata": {},
     "execution_count": 514
    }
   ],
   "metadata": {}
  },
  {
   "cell_type": "code",
   "execution_count": 515,
   "source": [
    "peao_n"
   ],
   "outputs": [
    {
     "output_type": "execute_result",
     "data": {
      "text/plain": [
       "[[-1, 0], [-2, 0]]"
      ]
     },
     "metadata": {},
     "execution_count": 515
    }
   ],
   "metadata": {}
  },
  {
   "cell_type": "code",
   "execution_count": 516,
   "source": [
    "def jogadas_possiveis(posicao:str,jogo:list,tipo= int):\r\n",
    "    jogo1=[i[:] for i in copy.deepcopy(jogo)]\r\n",
    "    i,j=let_num(posicao)\r\n",
    "    peca=jogo1[i][j]\r\n",
    "    cor=peca[0] #?\r\n",
    "    conjunto=[]\r\n",
    "    \r\n",
    "    if peca[-1]=='R':#Rei\r\n",
    "        conjunto=rei\r\n",
    "\r\n",
    "\r\n",
    "    elif peca[-1]=='C': #Cavalo\r\n",
    "        conjunto=cavalo\r\n",
    "\r\n",
    "\r\n",
    "    elif peca[-1]=='P': #Peão\r\n",
    "        if cor =='N':\r\n",
    "            conjunto=[i[:] for i in copy.deepcopy(peao_n)]\r\n",
    "\r\n",
    "            if search_peca(destino(posicao,-1,-1),jogo1).startswith('Br'):\r\n",
    "                conjunto.append([-1,-1])\r\n",
    "\r\n",
    "            if search_peca(destino(posicao,-1,1),jogo1).startswith('Br'):\r\n",
    "                conjunto.append([-1,1])\r\n",
    "\r\n",
    "\r\n",
    "        elif cor == 'B':\r\n",
    "            conjunto=[i[:] for i in copy.deepcopy(peao_b)]\r\n",
    "\r\n",
    "            if search_peca(destino(posicao,1,1),jogo1).startswith('Ne'):\r\n",
    "                conjunto.append([1,1])\r\n",
    "\r\n",
    "            if search_peca(destino(posicao,1,-1),jogo1).startswith('Ne'):\r\n",
    "                conjunto.append([1,-1])\r\n",
    "\r\n",
    "\r\n",
    "        if not let_num(posicao)[0] in [1,6]:\r\n",
    "            conjunto=[[x,y] for x,y in conjunto if abs(x)<2 and abs(y)<2]\r\n",
    "        \r\n",
    "\r\n",
    "\r\n",
    "    elif peca[-1]=='T': #Torre\r\n",
    "        vertical=[]\r\n",
    "        \r\n",
    "        for num in range(0,i,1): #sobe VERT\r\n",
    "            if num ==0:\r\n",
    "                continue\r\n",
    "            vertical.append([num,0])\r\n",
    "            if search_peca(destino(posicao,num,0),jogo1) != \"\":\r\n",
    "                break\r\n",
    "\r\n",
    "        for num in range(0,8-i,-1): #desce VER\r\n",
    "            if num ==0:\r\n",
    "                continue\r\n",
    "            vertical.append([num,0])\r\n",
    "            if search_peca(destino(posicao,num,0),jogo1) != \"\":#B\r\n",
    "                break\r\n",
    "\r\n",
    "        for num in range(0,j,-1): #HORI a esquerda\r\n",
    "            if num ==0:\r\n",
    "                continue\r\n",
    "            vertical.append([0,-num])\r\n",
    "            if search_peca(destino(posicao,0,-num),jogo1) != \"\":\r\n",
    "                break\r\n",
    "\r\n",
    "\r\n",
    "        for num in range(0,8-j,1): #HORI a direita\r\n",
    "            if num ==0:\r\n",
    "                continue\r\n",
    "            vertical.append([0,num])\r\n",
    "            if search_peca(destino(posicao,0,num),jogo1) != \"\":\r\n",
    "                break\r\n",
    "        conjunto=vertical.copy()\r\n",
    "\r\n",
    "    \r\n",
    "\r\n",
    "    elif peca[-1]=='B': #bispo\r\n",
    "        vertical=[]\r\n",
    "\r\n",
    "        p1 = min(i+1,8-j)\r\n",
    "        p2 = min(i+1,j+1)\r\n",
    "        p3 = min(j+1,8-i)\r\n",
    "        p4 = min(8-j,8-i)\r\n",
    "        for num in range(0,p1,1): #1º quadrante\r\n",
    "            if num ==0:\r\n",
    "                continue\r\n",
    "            vertical.append([num,num])\r\n",
    "            if search_peca(destino(posicao,num,num),jogo1) != \"\":\r\n",
    "                break\r\n",
    "\r\n",
    "        for num in range(0,p2): #2ºquadrante\r\n",
    "            if num ==0:\r\n",
    "                continue\r\n",
    "            vertical.append([num,-num])\r\n",
    "            if search_peca(destino(posicao,num,-num),jogo1) != \"\":\r\n",
    "                break\r\n",
    "\r\n",
    "        for num in range(0,p3): #3º quadrante\r\n",
    "            if num ==0:\r\n",
    "                continue\r\n",
    "            vertical.append([-num,-num])\r\n",
    "            if search_peca(destino(posicao,-num,-num),jogo1) != \"\":\r\n",
    "                break\r\n",
    "\r\n",
    "        for num in range(0,p4,1): #4º quadrante\r\n",
    "            if num ==0:\r\n",
    "                continue\r\n",
    "            vertical.append([-num,num])\r\n",
    "            if search_peca(destino(posicao,-num,num),jogo1) != \"\":\r\n",
    "                break\r\n",
    "        conjunto+=vertical\r\n",
    "\r\n",
    "\r\n",
    "\r\n",
    "\r\n",
    "\r\n",
    "\r\n",
    "    elif peca[-1]=='D': #Dama\r\n",
    "        vertical=[]\r\n",
    "        \r\n",
    "        for num in range(0,i,1): #sobe VERT\r\n",
    "            if num ==0:\r\n",
    "                continue\r\n",
    "            vertical.append([num,0])\r\n",
    "            if search_peca(destino(posicao,num,0),jogo1) != \"\":\r\n",
    "                break\r\n",
    "\r\n",
    "        for num in range(0,8-i,-1): #desce VER\r\n",
    "            if num ==0:\r\n",
    "                continue\r\n",
    "            vertical.append([num,0])\r\n",
    "            if search_peca(destino(posicao,num,0),jogo1) != \"\":#B\r\n",
    "                break\r\n",
    "\r\n",
    "        for num in range(0,j,-1): #HORI a esquerda\r\n",
    "            if num ==0:\r\n",
    "                continue\r\n",
    "            vertical.append([0,-num])\r\n",
    "            if search_peca(destino(posicao,0,-num),jogo1) != \"\":\r\n",
    "                break\r\n",
    "\r\n",
    "\r\n",
    "        for num in range(0,8-j,1): #HORI a direita\r\n",
    "            if num ==0:\r\n",
    "                continue\r\n",
    "            vertical.append([0,num])\r\n",
    "            if search_peca(destino(posicao,0,num),jogo1) != \"\":\r\n",
    "                break\r\n",
    "        \r\n",
    "\r\n",
    "\r\n",
    "        p1 = min(i+1,8-j)\r\n",
    "        p2 = min(i+1,j+1)\r\n",
    "        p3 = min(j+1,8-i)\r\n",
    "        p4 = min(8-j,8-i)\r\n",
    "        for num in range(0,p1,1): #1º quadrante\r\n",
    "            if num ==0:\r\n",
    "                continue\r\n",
    "            vertical.append([num,num])\r\n",
    "            if search_peca(destino(posicao,num,num),jogo1) != \"\":\r\n",
    "                break\r\n",
    "\r\n",
    "        for num in range(0,p2): #2ºquadrante\r\n",
    "            if num ==0:\r\n",
    "                continue\r\n",
    "            vertical.append([num,-num])\r\n",
    "            if search_peca(destino(posicao,num,-num),jogo1) != \"\":\r\n",
    "                break\r\n",
    "\r\n",
    "        for num in range(0,p3): #3º quadrante\r\n",
    "            if num ==0:\r\n",
    "                continue\r\n",
    "            vertical.append([-num,-num])\r\n",
    "            if search_peca(destino(posicao,-num,-num),jogo1) != \"\":\r\n",
    "                break\r\n",
    "\r\n",
    "        for num in range(0,p4,1): #4º quadrante\r\n",
    "            if num ==0:\r\n",
    "                continue\r\n",
    "            vertical.append([-num,num])\r\n",
    "\r\n",
    "            if search_peca(destino(posicao,-num,num),jogo1) != \"\":\r\n",
    "                break\r\n",
    "        conjunto+=vertical\r\n",
    "\r\n",
    "\r\n",
    "\r\n",
    "\r\n",
    "\r\n",
    "\r\n",
    "\r\n",
    "    \r\n",
    "    conjunto=apenas_dentro_tabuleiro(posicao,conjunto)\r\n",
    "    conjunto=anti_sobreposicao(jogo1,posicao,conjunto)\r\n",
    "\r\n",
    "\r\n",
    "\r\n",
    "    conjunto=[i for i in conjunto if not i==\"\"]\r\n",
    "\r\n",
    "    if tipo==str:\r\n",
    "        conjunto=[ destino(posicao,x,y) for x,y in conjunto ]\r\n",
    "\r\n",
    "    if len(conjunto)==0:\r\n",
    "        conjunto.append(\"\")\r\n",
    "    return conjunto\r\n",
    "\r\n",
    "\r\n"
   ],
   "outputs": [],
   "metadata": {}
  },
  {
   "cell_type": "code",
   "execution_count": 554,
   "source": [],
   "outputs": [
    {
     "output_type": "execute_result",
     "data": {
      "text/plain": [
       "[['NeT', 'NeC', 'NeB', 'NeD', 'NeR', 'NeB', 'NeC', 'NeT'],\n",
       " ['NeP', 'NeP', 'NeP', 'NeP', 'NeP', 'NeP', 'NeP', 'NeP'],\n",
       " ['', '', '', '', '', '', '', ''],\n",
       " ['', '', '', '', '', '', '', ''],\n",
       " ['', '', '', '', '', '', '', ''],\n",
       " ['', '', '', '', '', '', '', ''],\n",
       " ['BrP', 'BrP', 'BrP', 'BrP', 'BrP', 'BrP', 'BrP', 'BrP'],\n",
       " ['BrT', 'BrC', 'BrB', 'BrD', 'BrR', 'BrB', 'BrC', 'BrT']]"
      ]
     },
     "metadata": {},
     "execution_count": 554
    }
   ],
   "metadata": {}
  },
  {
   "cell_type": "code",
   "execution_count": 556,
   "source": [],
   "outputs": [
    {
     "output_type": "execute_result",
     "data": {
      "text/plain": [
       "[[2, 1], [2, -1]]"
      ]
     },
     "metadata": {},
     "execution_count": 556
    }
   ],
   "metadata": {}
  },
  {
   "cell_type": "code",
   "execution_count": 517,
   "source": [
    "def cheque(jogo_de_entrada,vitima):\r\n",
    "    jogo=[i[:] for i in copy.deepcopy(jogo_de_entrada)]\r\n",
    "    vitima=vitima.upper()\r\n",
    "    if vitima[0]=='N':\r\n",
    "        rei_,adversario='NeR','B'\r\n",
    "    else:\r\n",
    "        rei_,adversario='BrR','N'\r\n",
    "\r\n",
    "    #Vitima em cheque?\r\n",
    "    tabuleiro=[]\r\n",
    "    for i in tabuleiro_vazio:\r\n",
    "            tabuleiro+=i\r\n",
    "    \r\n",
    "    tabuleiro = [i for i in tabuleiro if search_peca(i,jogo).startswith(adversario)] #peças do adversário\r\n",
    "    #um adversário pode te tocar\r\n",
    "\r\n",
    "    casas=[]\r\n",
    "    for posicao in tabuleiro:\r\n",
    "        casas += jogadas_possiveis(posicao,jogo,str)\r\n",
    "    \r\n",
    "    for i in casas:\r\n",
    "        if search_peca(i,jogo)==rei_:\r\n",
    "            return True\r\n",
    "            \r\n",
    "    \r\n",
    "\r\n",
    "    return False\r\n"
   ],
   "outputs": [],
   "metadata": {}
  },
  {
   "cell_type": "code",
   "execution_count": 675,
   "source": [
    "def cheque_mate(jogo_de_entrada, cor='Ambas'):\r\n",
    "    jogo=[i[:] for i in copy.deepcopy(jogo_de_entrada)]\r\n",
    "\r\n",
    "    tabuleiro=[]\r\n",
    "    for i in tabuleiro_vazio:\r\n",
    "        tabuleiro+=i\r\n",
    "\r\n",
    "    olhar_geral=[True,True]\r\n",
    "    #olhando pras negras\r\n",
    "    tabuleiro1=[i[:] for i in tabuleiro[:]]\r\n",
    "\r\n",
    "    for posicao in tabuleiro:\r\n",
    "        i,j=let_num(posicao)\r\n",
    "        peca=jogo[i][j]\r\n",
    "        if peca==\"\":\r\n",
    "            continue\r\n",
    "        if peca[0]=='N':\r\n",
    "            movimentos_possiveis=jogadas_possiveis(posicao,jogo,int)\r\n",
    "            if movimentos_possiveis[0]==\"\":\r\n",
    "\r\n",
    "                continue\r\n",
    "            else:\r\n",
    "                for mov in movimentos_possiveis:\r\n",
    "                    tabuleiro=movimento(posicao,mov[0],mov[1],jogo)\r\n",
    "                    if cheque(tabuleiro,'Negras')==False:\r\n",
    "                        olhar_geral[0]=False\r\n",
    "                        break\r\n",
    "        else:\r\n",
    "            continue\r\n",
    "    tabuleiro=tabuleiro1.copy()\r\n",
    "    #Olhando pras brancas\r\n",
    "    for posicao in tabuleiro:\r\n",
    "        i,j=let_num(posicao)\r\n",
    "        peca=jogo[i][j]\r\n",
    "        if peca==\"\":\r\n",
    "            continue\r\n",
    "        if peca[0]=='B':\r\n",
    "            movimentos_possiveis=jogadas_possiveis(posicao,jogo,int)\r\n",
    "            if movimentos_possiveis[0]==\"\":\r\n",
    "                continue\r\n",
    "            else:\r\n",
    "                for mov in movimentos_possiveis:\r\n",
    "                    tabuleiro=movimento(posicao,mov[0],mov[1],jogo)\r\n",
    "                    if cheque(tabuleiro,'Brancas')==False:\r\n",
    "                        olhar_geral[1]=False\r\n",
    "                        break\r\n",
    "        else:\r\n",
    "            continue\r\n",
    "    if cor[0] in [\"B\",'b']:\r\n",
    "        return olhar_geral[1]\r\n",
    "    if cor[0] in [\"N\",'n']:\r\n",
    "        return olhar_geral[1]\r\n",
    "    if cor[0] in ['A','a']:\r\n",
    "        return olhar_geral[0] or olhar_geral[1]\r\n",
    "    "
   ],
   "outputs": [],
   "metadata": {}
  },
  {
   "cell_type": "code",
   "execution_count": 676,
   "source": [
    "\r\n"
   ],
   "outputs": [
    {
     "output_type": "execute_result",
     "data": {
      "text/plain": [
       "False"
      ]
     },
     "metadata": {},
     "execution_count": 676
    }
   ],
   "metadata": {}
  },
  {
   "cell_type": "code",
   "execution_count": 657,
   "source": [
    "jogadas_possiveis('A1',jogo_start)[0]==\"\""
   ],
   "outputs": [
    {
     "output_type": "execute_result",
     "data": {
      "text/plain": [
       "True"
      ]
     },
     "metadata": {},
     "execution_count": 657
    }
   ],
   "metadata": {}
  },
  {
   "cell_type": "code",
   "execution_count": 826,
   "source": [
    "def pontuacao(jogo_entrada,cor='Negra'):\r\n",
    "    'Pensando no computador que joga de negras'\r\n",
    "    \r\n",
    "    jogo=[i[:] for i in copy.deepcopy(jogo_entrada)]\r\n",
    "\r\n",
    "\r\n",
    "    if cor[0].upper() in ['N','B']:\r\n",
    "        pecas_pesos={'NeP':1 , 'NeT':5 , 'NeB':3 , 'NeC':3 , 'NeD':9 , 'NeR':-5 , 'BrP':1 , 'BrT':5 , 'BrB':3 , 'BrC':3 , 'BrD':9 , 'BrR':-5  }\r\n",
    "\r\n",
    "        liberdade_ne,liberdade_br       =  0,0\r\n",
    "        pontos_ne,pontos_br             =  5,5\r\n",
    "        centralidade_ne,centralidade_br =  0,0\r\n",
    "        pecas_ne , pecas_br             =  0,0   \r\n",
    "        for x in range(8):\r\n",
    "            for y in range(8):\r\n",
    "                if jogo[x][y]==\"\":\r\n",
    "                    \r\n",
    "                    continue\r\n",
    "                \r\n",
    "                elif jogo[x][y].startswith('Br'):\r\n",
    "                    liberdade_br += len(jogadas_possiveis(tabuleiro_vazio[x][y], jogo))**(1/2)\r\n",
    "                    pontos_br += pecas_pesos [ jogo[x][y] ]\r\n",
    "                    fator_centro=sum([(1 if i in(0,7,1,6) else 2) for i in [x,y]])\r\n",
    "                    centralidade_br += fator_centro * pecas_pesos [ jogo[x][y] ]\r\n",
    "                    pecas_br+=1\r\n",
    "                    \r\n",
    "                else:\r\n",
    "                    liberdade_ne += len(jogadas_possiveis(tabuleiro_vazio[x][y], jogo))**(1/2)\r\n",
    "                    pontos_ne += pecas_pesos [ jogo[x][y] ]\r\n",
    "                    fator_centro=sum([(1 if i in(0,7,1,6) else 2) for i in [x,y]])\r\n",
    "                    centralidade_ne += fator_centro * pecas_pesos [ jogo[x][y] ]\r\n",
    "                    pecas_ne+=1\r\n",
    "            \r\n",
    "\r\n",
    "        pontos_extras=1\r\n",
    "        if cheque(jogo,'branca'):\r\n",
    "            pontos_extras=pontos_extras*1.1\r\n",
    "            if cheque_mate(jogo,'brancas'):\r\n",
    "                pontos_extras=pontos_extras*2\r\n",
    "                liberdade=liberdade*2\r\n",
    "                centralidade=centralidade*2\r\n",
    "                pecas=pecas*2\r\n",
    "        if cheque(jogo,'negras'):\r\n",
    "            pontos_extras=pontos_extras*0.7\r\n",
    "            if cheque_mate(jogo,'negras'):\r\n",
    "                pontos_extras=-99\r\n",
    "                liberdade=-99\r\n",
    "                centralidade=-99\r\n",
    "                pecas=-99\r\n",
    "        \r\n",
    "        centralidade = (.1+centralidade_ne) / (0.1+centralidade_br)\r\n",
    "        liberdade    = (.1+liberdade_ne)    / (0.1+liberdade_br)\r\n",
    "        pontos       = (pontos_ne+0.1) / (0.1+pontos_br)\r\n",
    "        pecas        = (.1+pecas_ne)        / (0.1+pecas_br)\r\n",
    "        if cor[0].upper()=='B':\r\n",
    "            centralidade = 1/centralidade\r\n",
    "            liberdade = 1/liberdade\r\n",
    "            pontos= 1/pontos\r\n",
    "            pecas = 1/pecas\r\n",
    "            pontos_extras = 1/pontos_extras\r\n",
    "        \r\n",
    "        return [centralidade,liberdade,pontos_extras,pecas] ##tamanho 4\r\n",
    "    \r\n",
    "    print('Cor não identificada menorzada  = (  ')\r\n",
    "    return  ##tamanho 4"
   ],
   "outputs": [],
   "metadata": {}
  },
  {
   "cell_type": "code",
   "execution_count": null,
   "source": [],
   "outputs": [],
   "metadata": {}
  },
  {
   "cell_type": "code",
   "execution_count": 638,
   "source": [
    "jogadas_possiveis('A2',jogo_start)"
   ],
   "outputs": [
    {
     "output_type": "execute_result",
     "data": {
      "text/plain": [
       "[[1, 0], [2, 0]]"
      ]
     },
     "metadata": {},
     "execution_count": 638
    }
   ],
   "metadata": {}
  },
  {
   "cell_type": "code",
   "execution_count": 639,
   "source": [
    "def jogadas_possiveis2(posicao,jogo_de_entrada,tipo=int):\r\n",
    "    jogo=[i[:] for i in copy.deepcopy(jogo_de_entrada)]\r\n",
    "    jogadas=jogadas_possiveis(posicao,jogo,int)\r\n",
    "    jogadas=[i for i in jogadas if type(i)==type([i])]\r\n",
    "    x,y=let_num(posicao)\r\n",
    "    cor=jogo[x][y][0]\r\n",
    "    retorno=[]\r\n",
    "    for i in jogadas:\r\n",
    "        if cheque(movimento(posicao,i[0],i[1],jogo),cor):\r\n",
    "            continue\r\n",
    "        else:\r\n",
    "            retorno.append(i)\r\n",
    "    \r\n",
    "    if tipo == dict:\r\n",
    "        retorno= { destino(posicao,k[0],k[1]):k for k in retorno}\r\n",
    "    return retorno"
   ],
   "outputs": [],
   "metadata": {}
  },
  {
   "cell_type": "code",
   "execution_count": 769,
   "source": [],
   "outputs": [
    {
     "output_type": "execute_result",
     "data": {
      "text/plain": [
       "dict_keys(['C3^[2, 1]', 'C3^[1, 2]', 'C3^[2, -1]', 'C3^[1, -2]', 'C3^[-2, -1]', 'F3^[2, 1]', 'F3^[1, 2]', 'F3^[2, -1]', 'F3^[-2, 1]', 'F3^[1, -2]', 'A2^[1, 0]', 'A2^[2, 0]', 'B2^[1, 0]', 'B2^[2, 0]', 'C2^[2, 0]', 'D2^[1, 0]', 'D2^[2, 0]', 'E2^[1, 0]', 'E2^[2, 0]', 'F2^[2, 0]', 'G2^[1, 0]', 'G2^[2, 0]', 'H2^[1, 0]', 'H2^[2, 0]', 'A1^[0, 1]'])"
      ]
     },
     "metadata": {},
     "execution_count": 769
    }
   ],
   "metadata": {}
  },
  {
   "cell_type": "code",
   "execution_count": 768,
   "source": [],
   "outputs": [
    {
     "output_type": "execute_result",
     "data": {
      "text/plain": [
       "[['NeT', 'NeC', 'NeB', 'NeD', 'NeR', 'NeB', 'NeC', 'NeT'],\n",
       " ['NeP', 'NeP', 'NeP', 'NeP', 'NeP', 'NeP', 'NeP', 'NeP'],\n",
       " ['', '', '', '', '', '', '', ''],\n",
       " ['', '', '', '', '', '', '', ''],\n",
       " ['', '', '', '', '', '', '', ''],\n",
       " ['', '', 'BrC', '', '', 'BrC', '', ''],\n",
       " ['BrP', 'BrP', 'BrP', 'BrP', 'BrP', 'BrP', 'BrP', 'BrP'],\n",
       " ['BrT', '', 'BrB', 'BrD', 'BrR', 'BrB', '', 'BrT']]"
      ]
     },
     "metadata": {},
     "execution_count": 768
    }
   ],
   "metadata": {}
  },
  {
   "cell_type": "code",
   "execution_count": 770,
   "source": [
    "def futuro(jogo_de_entrada,cor='Negras',pesos=[1,1,1,1]):\r\n",
    "    jogo=[i[:] for i in copy.deepcopy(jogo_de_entrada)]\r\n",
    "\r\n",
    "    pesos=list(np.array(pesos)/sum(pesos)) #soma 1\r\n",
    "    ponderada=lambda list1,list2: sum(list(map(lambda x,y:x*y,list1,list2)))\r\n",
    "\r\n",
    "    casas_tocaveis=[]\r\n",
    "    if cor[0] in ('N','n'):\r\n",
    "        for i in range(8):\r\n",
    "            for j in range(8):\r\n",
    "                if jogo[i][j].startswith('Ne'):\r\n",
    "                    posi=tabuleiro_vazio[i][j]\r\n",
    "                    if jogadas_possiveis(posi,jogo)[0]!=\"\":\r\n",
    "                        if len(jogadas_possiveis2(posi,jogo))>1:\r\n",
    "                            casas_tocaveis.append(posi)\r\n",
    "\r\n",
    "        #primeira linha\r\n",
    "\r\n",
    "\r\n",
    "        movimentos={posi:jogadas_possiveis2(posi,jogo) for posi in casas_tocaveis}\r\n",
    "        first_line_game={\"apaga_depois\":\"\"}\r\n",
    "        first_line_score={'apaga_depois':\"\"}\r\n",
    "        \r\n",
    "        i=1\r\n",
    "        for casa in casas_tocaveis:\r\n",
    "            for mov in movimentos[casa]:\r\n",
    "                jogada=f\"{casa}^{mov}\"\r\n",
    "                first_line_game[jogada] = (  movimento ( casa , mov[0] , mov[1] , jogo)   )\r\n",
    "                first_line_score[jogada] = ponderada (   pontuacao(  first_line_game[jogada] , 'Negra' ) , pesos )\r\n",
    "                \r\n",
    "\r\n",
    "        del(first_line_game['apaga_depois'])\r\n",
    "        del(first_line_score['apaga_depois'])\r\n",
    "\r\n",
    "\r\n",
    "        jogadas_eleitas= min( list( first_line_score.values() ) )*1/3 + max( list( first_line_score.values() ) )*2/3\r\n",
    "\r\n",
    "        first_line_score={ i : first_line_score[i]  for   i   in first_line_score.keys() if first_line_score[i] >= jogadas_eleitas}\r\n",
    "        first_line_game={ i : first_line_game[i]  for   i   in first_line_score.keys() if first_line_score[i] >= jogadas_eleitas}\r\n",
    "\r\n",
    "\r\n",
    "\r\n",
    "\r\n",
    "\r\n",
    "    if cor[0] in ('B','b'):\r\n",
    "        for i in range(8):\r\n",
    "            for j in range(8):\r\n",
    "                if jogo[i][j].startswith('Br'):\r\n",
    "                    posi=tabuleiro_vazio[i][j]\r\n",
    "                    if jogadas_possiveis(posi,jogo)[0]!=\"\":\r\n",
    "                        if len(jogadas_possiveis2(posi,jogo))>0:\r\n",
    "                            casas_tocaveis.append(posi)\r\n",
    "\r\n",
    "        #primeira linha\r\n",
    "\r\n",
    "\r\n",
    "        movimentos={posi:jogadas_possiveis2(posi,jogo) for posi in casas_tocaveis}\r\n",
    "        first_line_game={\"apaga_depois\":\"\"}\r\n",
    "        first_line_score={'apaga_depois':\"\"}\r\n",
    "        \r\n",
    "        i=1\r\n",
    "        for casa in casas_tocaveis:\r\n",
    "            for mov in movimentos[casa]:\r\n",
    "                jogada=f\"{casa}^{mov}\"\r\n",
    "                first_line_game[jogada] = (  movimento ( casa , mov[0] , mov[1] , jogo)   )\r\n",
    "                first_line_score[jogada] = ponderada (   pontuacao(  first_line_game[jogada] , 'Brancas' ) , pesos )\r\n",
    "                \r\n",
    "\r\n",
    "        del(first_line_game['apaga_depois'])\r\n",
    "        del(first_line_score['apaga_depois'])\r\n",
    "\r\n",
    "\r\n",
    "        jogadas_eleitas= min( list( first_line_score.values() ) )*1/3 + max( list( first_line_score.values() ) )*2/3\r\n",
    "\r\n",
    "        first_line_score={ i : first_line_score[i]  for   i   in first_line_score.keys() if first_line_score[i] >= jogadas_eleitas}\r\n",
    "        first_line_game={ i : first_line_game[i]  for   i   in first_line_score.keys() if first_line_score[i] >= jogadas_eleitas}\r\n",
    "\r\n",
    "\r\n",
    "\r\n",
    "    return first_line_game,first_line_score"
   ],
   "outputs": [],
   "metadata": {}
  },
  {
   "cell_type": "code",
   "execution_count": 784,
   "source": [
    "futuro(jogo_teste1,cor='branco')[1]\r\n",
    "#jogo_teste1"
   ],
   "outputs": [
    {
     "output_type": "execute_result",
     "data": {
      "text/plain": [
       "{'C3^[2, 1]': 1.0591978441077052,\n",
       " 'F3^[2, -1]': 1.0591978441077052,\n",
       " 'A2^[1, 0]': 1.0524021999630788,\n",
       " 'A2^[2, 0]': 1.053698183192749,\n",
       " 'C2^[2, 0]': 1.0588393158177956,\n",
       " 'D2^[1, 0]': 1.0626028861077794,\n",
       " 'D2^[2, 0]': 1.0650950721505188,\n",
       " 'E2^[1, 0]': 1.0626028861077794,\n",
       " 'E2^[2, 0]': 1.0599539395254725}"
      ]
     },
     "metadata": {},
     "execution_count": 784
    }
   ],
   "metadata": {}
  },
  {
   "cell_type": "code",
   "execution_count": 524,
   "source": [
    "np.array([1,2,3])/np.array([1,2,1])"
   ],
   "outputs": [
    {
     "output_type": "execute_result",
     "data": {
      "text/plain": [
       "array([1., 1., 3.])"
      ]
     },
     "metadata": {},
     "execution_count": 524
    }
   ],
   "metadata": {}
  },
  {
   "cell_type": "code",
   "execution_count": 525,
   "source": [
    "pontuacao(jogo_start)\r\n",
    "#futuro(jogo_start)[1]"
   ],
   "outputs": [
    {
     "output_type": "execute_result",
     "data": {
      "text/plain": [
       "[1.0, 1.0, 1, 1.0]"
      ]
     },
     "metadata": {},
     "execution_count": 525
    }
   ],
   "metadata": {}
  },
  {
   "cell_type": "code",
   "execution_count": 774,
   "source": [
    "def jogada_adv(jogo_de_entrada,cor_adv='Branco',pesos=[1,1,1,1]):\r\n",
    "    jogo=[i[:] for i in copy.deepcopy(jogo_de_entrada)]\r\n",
    "\r\n",
    "    pesos=list(np.array(pesos)/sum(pesos)) #soma 1\r\n",
    "\r\n",
    "    ponderada=lambda list1,list2: sum(list(map(lambda x,y:x*y,list1,list2)))\r\n",
    "\r\n",
    "    inimigo='Br'\r\n",
    "    if cor_adv[0] in ['N','n']:\r\n",
    "        inimigo='Ne'\r\n",
    "    casas_tocaveis=[]\r\n",
    "    for i in range(8):\r\n",
    "        for j in range(8):\r\n",
    "            if jogo[i][j].startswith(inimigo):\r\n",
    "                posi=tabuleiro_vazio[i][j]\r\n",
    "                if jogadas_possiveis(posi,jogo)[0]!=\"\":\r\n",
    "                    if len(jogadas_possiveis2(posi,jogo))>0:\r\n",
    "                        casas_tocaveis.append(posi)\r\n",
    "    \r\n",
    "\r\n",
    "    #primeira linha\r\n",
    "    movimentos={posi:jogadas_possiveis2(posi,jogo) for posi in casas_tocaveis}\r\n",
    "    first_line_game={\"apaga_depois\":\"\"}\r\n",
    "    first_line_score={'apaga_depois':\"\"}\r\n",
    "    for casa in casas_tocaveis:\r\n",
    "        for mov in movimentos[casa]:\r\n",
    "            jogada=f\"{casa}^{mov}\"\r\n",
    "            first_line_game[jogada] = (  movimento ( casa , mov[0] , mov[1] , jogo)   )\r\n",
    "            first_line_score[jogada] = ponderada (   pontuacao(  first_line_game[jogada] , 'Negra' ) , pesos )\r\n",
    "            #o Score é relativo ..... \r\n",
    "\r\n",
    "    \r\n",
    "    del(first_line_game['apaga_depois'])\r\n",
    "    del(first_line_score['apaga_depois'])\r\n",
    "\r\n",
    "    jogadas_eleitas= min( list( first_line_score.values() ) )*2/3 + max( list( first_line_score.values() ) )/3\r\n",
    "\r\n",
    "    first_line_score={ i : first_line_score[i]  for   i   in first_line_score.keys() if first_line_score[i] <= jogadas_eleitas}\r\n",
    "    first_line_game={ i : first_line_game[i]  for   i   in first_line_score.keys() if first_line_score[i] <= jogadas_eleitas}\r\n",
    "\r\n",
    "    return first_line_game,first_line_score"
   ],
   "outputs": [],
   "metadata": {}
  },
  {
   "cell_type": "code",
   "execution_count": null,
   "source": [],
   "outputs": [],
   "metadata": {}
  },
  {
   "cell_type": "code",
   "execution_count": 789,
   "source": [
    "def futuro_1play(jogo_de_entrada,cor='Negro',pesos=[1,1,1,1]):\r\n",
    "    jogo=[i[:] for i in copy.deepcopy(jogo_de_entrada)]\r\n",
    "    _cor= 'Br' if cor[0].upper()=='N' else 'Ne'\r\n",
    "\r\n",
    "\r\n",
    "\r\n",
    "    jogos_1,scores_1=futuro(jogo,cor=cor,pesos=pesos)\r\n",
    "\r\n",
    "    scores_1adv={'apaga':''}\r\n",
    "\r\n",
    "    for jogada in jogos_1.keys():\r\n",
    "        jogos_2 , scores_2    =  jogada_adv(jogos_1[jogada],_cor,pesos)\r\n",
    "        scores_1adv  [jogada] =  np.mean(   list (  scores_2.values()  )   )\r\n",
    "    del (scores_1adv['apaga'])\r\n",
    "\r\n",
    "    \r\n",
    "    decisao = { jogada : 5 * scores_1adv[jogada] /6 + scores_1[jogada] /6 for jogada in jogos_1.keys()}\r\n",
    "    decisao = {v:k for k,v in decisao.items()}\r\n",
    "    maior = max([x for x,y in decisao.items()])\r\n",
    "\r\n",
    "    return decisao[maior]\r\n",
    "#73%\r\n",
    "    "
   ],
   "outputs": [],
   "metadata": {}
  },
  {
   "cell_type": "code",
   "execution_count": 779,
   "source": [
    "futuro_1play(jogo_teste1,cor='Branco')"
   ],
   "outputs": [
    {
     "output_type": "stream",
     "name": "stdout",
     "text": [
      "D2^[2, 0]\n",
      "E2^[1, 0]\n",
      "E2^[2, 0]\n",
      "B1^[2, 1]\n",
      "G1^[2, -1]\n"
     ]
    },
    {
     "output_type": "execute_result",
     "data": {
      "text/plain": [
       "'D2^[2, 0]'"
      ]
     },
     "metadata": {},
     "execution_count": 779
    }
   ],
   "metadata": {}
  },
  {
   "cell_type": "code",
   "execution_count": 622,
   "source": [
    "def code_to_move(string):\r\n",
    "    'G2^[1,1] ==> G2H3'\r\n",
    "    lista = string[3:].split(',')\r\n",
    "    primeiro = int(\"\".join([i for i in lista[0] if i.isdigit() or i==\"-\" ]))\r\n",
    "    segundo = int(\"\".join([i for i in lista[1] if i.isdigit() or i==\"-\" ]))\r\n",
    "    posicao=string[:2]\r\n",
    "    return posicao+ destino(posicao,primeiro,segundo)"
   ],
   "outputs": [],
   "metadata": {}
  },
  {
   "cell_type": "code",
   "execution_count": 634,
   "source": [
    "def movimento1(jogada,jogo_de_entrada):\r\n",
    "    jogo=[jo[:] for jo in jogo_de_entrada[:] ]\r\n",
    "    jogo=jogo.copy()\r\n",
    "    peca=search_peca(jogada[:2] , jogo) # seguramos a peça\r\n",
    "    i,j = let_num ( jogada[:2]) \r\n",
    "    jogo[i][j] = \"\" #tiramos a peça de lá\r\n",
    "\r\n",
    "    i,j = let_num(jogada [-2:])\r\n",
    "    jogo[i][j]=peca #colocamo a peça no destino\r\n",
    "\r\n",
    "    return jogo\r\n"
   ],
   "outputs": [],
   "metadata": {}
  },
  {
   "cell_type": "code",
   "execution_count": 695,
   "source": [],
   "outputs": [
    {
     "output_type": "execute_result",
     "data": {
      "text/plain": [
       "[['NeT', 'NeC', 'NeB', 'NeD', 'NeR', 'NeB', 'NeC', 'NeT'],\n",
       " ['NeP', 'NeP', 'NeP', 'NeP', 'NeP', 'NeP', 'NeP', 'NeP'],\n",
       " ['', '', '', '', '', '', '', ''],\n",
       " ['', '', '', '', '', '', '', ''],\n",
       " ['', '', '', '', '', '', '', ''],\n",
       " ['', '', 'BrC', '', '', '', '', ''],\n",
       " ['BrP', 'BrP', 'BrP', 'BrP', 'BrP', 'BrP', 'BrP', 'BrP'],\n",
       " ['BrT', '', 'BrB', 'BrD', 'BrR', 'BrB', 'BrC', 'BrT']]"
      ]
     },
     "metadata": {},
     "execution_count": 695
    }
   ],
   "metadata": {}
  },
  {
   "cell_type": "code",
   "execution_count": 817,
   "source": [
    "class Chess_pc_pc(): ##maneira de otimizar \r\n",
    "    def __init__(self):\r\n",
    "        self.jogo=jogo_start1\r\n",
    "\r\n",
    "    def joga(self,pesosbrancos,pesosnegros,jogo_de_entrada):\r\n",
    "        rodada=0\r\n",
    "        jogo_=[i[:] for i in jogo_de_entrada]\r\n",
    "            ## maquina 1 Joga\r\n",
    "\r\n",
    "        jogada_a=futuro_1play(jogo_,'Branco',pesosbrancos)\r\n",
    "        jogada_a=code_to_move(jogada_a)\r\n",
    "        jogo1=[i[:] for i in movimento1(jogada_a,jogo_)]\r\n",
    "            ## Máquina 2 Joga\r\n",
    "\r\n",
    "        if cheque_mate(jogo1):\r\n",
    "            for i in jogo1:\r\n",
    "                print(i)\r\n",
    "            self.jogo=jogo1\r\n",
    "            return jogo1\r\n",
    "\r\n",
    "        jogada_b=futuro_1play(jogo1,'Negras',pesosnegros)\r\n",
    "        jogada_b=code_to_move(jogada_b)\r\n",
    "\r\n",
    "        jogo2=[i[:] for i in movimento1(jogada_b,jogo1)]\r\n",
    "\r\n",
    "\r\n",
    "        self.jogo=[i[:] for i in jogo2[:]]\r\n",
    "\r\n",
    "        return jogo2\r\n",
    "    \r\n",
    "    def play(self,pesob,peson):\r\n",
    "        jogo=[ i[:] for i in self.jogo[:]]\r\n",
    "        conta=0\r\n",
    "        while cheque_mate(jogo) == False:\r\n",
    "            if True:\r\n",
    "                conta+=1\r\n",
    "                jogo=[i[:] for i in self.joga(pesob,peson,jogo)]\r\n",
    "\r\n",
    "                if conta > 30:\r\n",
    "                    for i in jogo:\r\n",
    "                        print(i)\r\n",
    "                    break\r\n",
    "            #except ZeroDivisionError:\r\n",
    "            #    print('ERROR')\r\n",
    "            #    for i in jogo:\r\n",
    "            #        print(i)\r\n",
    "            #    break"
   ],
   "outputs": [],
   "metadata": {}
  },
  {
   "cell_type": "code",
   "execution_count": 833,
   "source": [],
   "outputs": [
    {
     "output_type": "execute_result",
     "data": {
      "text/plain": [
       "'D6^[1, 0]'"
      ]
     },
     "metadata": {},
     "execution_count": 833
    }
   ],
   "metadata": {}
  },
  {
   "cell_type": "code",
   "execution_count": 827,
   "source": [
    "\r\n",
    "jogo_start1=[['', '', '', '', '', '', '', 'NeR']\r\n",
    " ,['', '', '', '', '', '', '', '']\r\n",
    " ,['', 'BrT', '', 'BrT', '', 'BrT', '', '']\r\n",
    " ,['', '', '', '', '', '', '', '']\r\n",
    " ,['', '', '', 'BrT', '', '', '', '']\r\n",
    " ,['', '', '', '', '', '', '', '']\r\n",
    " ,['', '', '', '', '', '', 'BrT', 'BrP']\r\n",
    " ,['', '', '', '', '', '', 'BrR', 'BrT']]\r\n",
    "teste=Chess_pc_pc()\r\n",
    "peso_b = [ np.random.random() for i in range(4)]\r\n",
    "peso_n = [ np.random.random() for i in range(4)]\r\n",
    "\r\n",
    "teste.play(peso_b,peso_n)"
   ],
   "outputs": [
    {
     "output_type": "error",
     "ename": "ValueError",
     "evalue": "min() arg is an empty sequence",
     "traceback": [
      "\u001b[1;31m---------------------------------------------------------------------------\u001b[0m",
      "\u001b[1;31mValueError\u001b[0m                                Traceback (most recent call last)",
      "\u001b[1;32m~\\AppData\\Local\\Temp/ipykernel_9728/3582963141.py\u001b[0m in \u001b[0;36m<module>\u001b[1;34m\u001b[0m\n\u001b[0;32m     11\u001b[0m \u001b[0mpeso_n\u001b[0m \u001b[1;33m=\u001b[0m \u001b[1;33m[\u001b[0m \u001b[0mnp\u001b[0m\u001b[1;33m.\u001b[0m\u001b[0mrandom\u001b[0m\u001b[1;33m.\u001b[0m\u001b[0mrandom\u001b[0m\u001b[1;33m(\u001b[0m\u001b[1;33m)\u001b[0m \u001b[1;32mfor\u001b[0m \u001b[0mi\u001b[0m \u001b[1;32min\u001b[0m \u001b[0mrange\u001b[0m\u001b[1;33m(\u001b[0m\u001b[1;36m4\u001b[0m\u001b[1;33m)\u001b[0m\u001b[1;33m]\u001b[0m\u001b[1;33m\u001b[0m\u001b[1;33m\u001b[0m\u001b[0m\n\u001b[0;32m     12\u001b[0m \u001b[1;33m\u001b[0m\u001b[0m\n\u001b[1;32m---> 13\u001b[1;33m \u001b[0mteste\u001b[0m\u001b[1;33m.\u001b[0m\u001b[0mplay\u001b[0m\u001b[1;33m(\u001b[0m\u001b[0mpeso_b\u001b[0m\u001b[1;33m,\u001b[0m\u001b[0mpeso_n\u001b[0m\u001b[1;33m)\u001b[0m\u001b[1;33m\u001b[0m\u001b[1;33m\u001b[0m\u001b[0m\n\u001b[0m",
      "\u001b[1;32m~\\AppData\\Local\\Temp/ipykernel_9728/1572736654.py\u001b[0m in \u001b[0;36mplay\u001b[1;34m(self, pesob, peson)\u001b[0m\n\u001b[0;32m     35\u001b[0m             \u001b[1;32mif\u001b[0m \u001b[1;32mTrue\u001b[0m\u001b[1;33m:\u001b[0m\u001b[1;33m\u001b[0m\u001b[1;33m\u001b[0m\u001b[0m\n\u001b[0;32m     36\u001b[0m                 \u001b[0mconta\u001b[0m\u001b[1;33m+=\u001b[0m\u001b[1;36m1\u001b[0m\u001b[1;33m\u001b[0m\u001b[1;33m\u001b[0m\u001b[0m\n\u001b[1;32m---> 37\u001b[1;33m                 \u001b[0mjogo\u001b[0m\u001b[1;33m=\u001b[0m\u001b[1;33m[\u001b[0m\u001b[0mi\u001b[0m\u001b[1;33m[\u001b[0m\u001b[1;33m:\u001b[0m\u001b[1;33m]\u001b[0m \u001b[1;32mfor\u001b[0m \u001b[0mi\u001b[0m \u001b[1;32min\u001b[0m \u001b[0mself\u001b[0m\u001b[1;33m.\u001b[0m\u001b[0mjoga\u001b[0m\u001b[1;33m(\u001b[0m\u001b[0mpesob\u001b[0m\u001b[1;33m,\u001b[0m\u001b[0mpeson\u001b[0m\u001b[1;33m,\u001b[0m\u001b[0mjogo\u001b[0m\u001b[1;33m)\u001b[0m\u001b[1;33m]\u001b[0m\u001b[1;33m\u001b[0m\u001b[1;33m\u001b[0m\u001b[0m\n\u001b[0m\u001b[0;32m     38\u001b[0m \u001b[1;33m\u001b[0m\u001b[0m\n\u001b[0;32m     39\u001b[0m                 \u001b[1;32mif\u001b[0m \u001b[0mconta\u001b[0m \u001b[1;33m>\u001b[0m \u001b[1;36m30\u001b[0m\u001b[1;33m:\u001b[0m\u001b[1;33m\u001b[0m\u001b[1;33m\u001b[0m\u001b[0m\n",
      "\u001b[1;32m~\\AppData\\Local\\Temp/ipykernel_9728/1572736654.py\u001b[0m in \u001b[0;36mjoga\u001b[1;34m(self, pesosbrancos, pesosnegros, jogo_de_entrada)\u001b[0m\n\u001b[0;32m     19\u001b[0m             \u001b[1;32mreturn\u001b[0m \u001b[0mjogo1\u001b[0m\u001b[1;33m\u001b[0m\u001b[1;33m\u001b[0m\u001b[0m\n\u001b[0;32m     20\u001b[0m \u001b[1;33m\u001b[0m\u001b[0m\n\u001b[1;32m---> 21\u001b[1;33m         \u001b[0mjogada_b\u001b[0m\u001b[1;33m=\u001b[0m\u001b[0mfuturo_1play\u001b[0m\u001b[1;33m(\u001b[0m\u001b[0mjogo1\u001b[0m\u001b[1;33m,\u001b[0m\u001b[1;34m'Negras'\u001b[0m\u001b[1;33m,\u001b[0m\u001b[0mpesosnegros\u001b[0m\u001b[1;33m)\u001b[0m\u001b[1;33m\u001b[0m\u001b[1;33m\u001b[0m\u001b[0m\n\u001b[0m\u001b[0;32m     22\u001b[0m         \u001b[0mjogada_b\u001b[0m\u001b[1;33m=\u001b[0m\u001b[0mcode_to_move\u001b[0m\u001b[1;33m(\u001b[0m\u001b[0mjogada_b\u001b[0m\u001b[1;33m)\u001b[0m\u001b[1;33m\u001b[0m\u001b[1;33m\u001b[0m\u001b[0m\n\u001b[0;32m     23\u001b[0m \u001b[1;33m\u001b[0m\u001b[0m\n",
      "\u001b[1;32m~\\AppData\\Local\\Temp/ipykernel_9728/964466939.py\u001b[0m in \u001b[0;36mfuturo_1play\u001b[1;34m(jogo_de_entrada, cor, pesos)\u001b[0m\n\u001b[0;32m      5\u001b[0m \u001b[1;33m\u001b[0m\u001b[0m\n\u001b[0;32m      6\u001b[0m \u001b[1;33m\u001b[0m\u001b[0m\n\u001b[1;32m----> 7\u001b[1;33m     \u001b[0mjogos_1\u001b[0m\u001b[1;33m,\u001b[0m\u001b[0mscores_1\u001b[0m\u001b[1;33m=\u001b[0m\u001b[0mfuturo\u001b[0m\u001b[1;33m(\u001b[0m\u001b[0mjogo\u001b[0m\u001b[1;33m,\u001b[0m\u001b[0mcor\u001b[0m\u001b[1;33m=\u001b[0m\u001b[0mcor\u001b[0m\u001b[1;33m,\u001b[0m\u001b[0mpesos\u001b[0m\u001b[1;33m=\u001b[0m\u001b[0mpesos\u001b[0m\u001b[1;33m)\u001b[0m\u001b[1;33m\u001b[0m\u001b[1;33m\u001b[0m\u001b[0m\n\u001b[0m\u001b[0;32m      8\u001b[0m \u001b[1;33m\u001b[0m\u001b[0m\n\u001b[0;32m      9\u001b[0m     \u001b[0mscores_1adv\u001b[0m\u001b[1;33m=\u001b[0m\u001b[1;33m{\u001b[0m\u001b[1;34m'apaga'\u001b[0m\u001b[1;33m:\u001b[0m\u001b[1;34m''\u001b[0m\u001b[1;33m}\u001b[0m\u001b[1;33m\u001b[0m\u001b[1;33m\u001b[0m\u001b[0m\n",
      "\u001b[1;32m~\\AppData\\Local\\Temp/ipykernel_9728/3009975045.py\u001b[0m in \u001b[0;36mfuturo\u001b[1;34m(jogo_de_entrada, cor, pesos)\u001b[0m\n\u001b[0;32m     34\u001b[0m \u001b[1;33m\u001b[0m\u001b[0m\n\u001b[0;32m     35\u001b[0m \u001b[1;33m\u001b[0m\u001b[0m\n\u001b[1;32m---> 36\u001b[1;33m         \u001b[0mjogadas_eleitas\u001b[0m\u001b[1;33m=\u001b[0m \u001b[0mmin\u001b[0m\u001b[1;33m(\u001b[0m \u001b[0mlist\u001b[0m\u001b[1;33m(\u001b[0m \u001b[0mfirst_line_score\u001b[0m\u001b[1;33m.\u001b[0m\u001b[0mvalues\u001b[0m\u001b[1;33m(\u001b[0m\u001b[1;33m)\u001b[0m \u001b[1;33m)\u001b[0m \u001b[1;33m)\u001b[0m\u001b[1;33m*\u001b[0m\u001b[1;36m1\u001b[0m\u001b[1;33m/\u001b[0m\u001b[1;36m3\u001b[0m \u001b[1;33m+\u001b[0m \u001b[0mmax\u001b[0m\u001b[1;33m(\u001b[0m \u001b[0mlist\u001b[0m\u001b[1;33m(\u001b[0m \u001b[0mfirst_line_score\u001b[0m\u001b[1;33m.\u001b[0m\u001b[0mvalues\u001b[0m\u001b[1;33m(\u001b[0m\u001b[1;33m)\u001b[0m \u001b[1;33m)\u001b[0m \u001b[1;33m)\u001b[0m\u001b[1;33m*\u001b[0m\u001b[1;36m2\u001b[0m\u001b[1;33m/\u001b[0m\u001b[1;36m3\u001b[0m\u001b[1;33m\u001b[0m\u001b[1;33m\u001b[0m\u001b[0m\n\u001b[0m\u001b[0;32m     37\u001b[0m \u001b[1;33m\u001b[0m\u001b[0m\n\u001b[0;32m     38\u001b[0m         \u001b[0mfirst_line_score\u001b[0m\u001b[1;33m=\u001b[0m\u001b[1;33m{\u001b[0m \u001b[0mi\u001b[0m \u001b[1;33m:\u001b[0m \u001b[0mfirst_line_score\u001b[0m\u001b[1;33m[\u001b[0m\u001b[0mi\u001b[0m\u001b[1;33m]\u001b[0m  \u001b[1;32mfor\u001b[0m   \u001b[0mi\u001b[0m   \u001b[1;32min\u001b[0m \u001b[0mfirst_line_score\u001b[0m\u001b[1;33m.\u001b[0m\u001b[0mkeys\u001b[0m\u001b[1;33m(\u001b[0m\u001b[1;33m)\u001b[0m \u001b[1;32mif\u001b[0m \u001b[0mfirst_line_score\u001b[0m\u001b[1;33m[\u001b[0m\u001b[0mi\u001b[0m\u001b[1;33m]\u001b[0m \u001b[1;33m>=\u001b[0m \u001b[0mjogadas_eleitas\u001b[0m\u001b[1;33m}\u001b[0m\u001b[1;33m\u001b[0m\u001b[1;33m\u001b[0m\u001b[0m\n",
      "\u001b[1;31mValueError\u001b[0m: min() arg is an empty sequence"
     ]
    }
   ],
   "metadata": {}
  },
  {
   "cell_type": "code",
   "execution_count": 814,
   "source": [],
   "outputs": [
    {
     "output_type": "execute_result",
     "data": {
      "text/plain": [
       "False"
      ]
     },
     "metadata": {},
     "execution_count": 814
    }
   ],
   "metadata": {}
  },
  {
   "cell_type": "code",
   "execution_count": null,
   "source": [
    "class Chess_duo():\r\n",
    "    def __init__(self):\r\n",
    "        self.vez=0 #brancas\r\n",
    "        self.jogo=jogo_start\r\n",
    "        self.mate=mate\r\n",
    "        self.rockbig=rockbig\r\n",
    "        self.rocksmall=rocksmall\r\n",
    "\r\n",
    "    def play(self):\r\n",
    "        self.rockbig==True\r\n",
    "        self.rocksmall==True\r\n",
    "        print(' Bem vindo ao xadrez das 3 espiãs de mais :)')\r\n",
    "        "
   ],
   "outputs": [],
   "metadata": {}
  },
  {
   "cell_type": "code",
   "execution_count": null,
   "source": [
    "escolhe_cor=Conversa('Qual cor você deseja jogar?')\r\n",
    "escolhe_cor.setrespostas(['brancas','branco','branca','branco','white','brancos'],0) #Brancas é 0\r\n",
    "escolhe_cor.setrespostas(['pretas','negras','pretos','negros','preta','negra','preto','negro'],1) #Negras é 1"
   ],
   "outputs": [],
   "metadata": {}
  },
  {
   "cell_type": "code",
   "execution_count": null,
   "source": [
    "class Chess_PC():\r\n",
    "    def __init__(self):\r\n",
    "        self.vez=1 #brancas\r\n",
    "        self.jogador='Br'\r\n",
    "        self.jogo=jogo_start\r\n",
    "\r\n",
    "    def play(self):\r\n",
    "        for i in tabuleiro_vazio:\r\n",
    "            print(i)\r\n",
    "        print(\"\\n\\n\")\r\n",
    "        for i in self.jogo:\r\n",
    "            print (i)\r\n",
    "        pergunta=escolhe_cor.playstr()\r\n",
    "        if pergunta == 0:\r\n",
    "            print('Você é de brancas e começa a partida')\r\n",
    "            for i in self.jogo:\r\n",
    "                print(i)\r\n",
    "        elif pergunta ==1:"
   ],
   "outputs": [
    {
     "output_type": "error",
     "ename": "IndentationError",
     "evalue": "expected an indented block (Temp/ipykernel_9728/4093011241.py, line 18)",
     "traceback": [
      "\u001b[1;36m  File \u001b[1;32m\"C:\\Users\\SAMSUNG\\AppData\\Local\\Temp/ipykernel_9728/4093011241.py\"\u001b[1;36m, line \u001b[1;32m18\u001b[0m\n\u001b[1;33m    elif pergunta ==1:\u001b[0m\n\u001b[1;37m                      ^\u001b[0m\n\u001b[1;31mIndentationError\u001b[0m\u001b[1;31m:\u001b[0m expected an indented block\n"
     ]
    }
   ],
   "metadata": {}
  },
  {
   "cell_type": "code",
   "execution_count": null,
   "source": [],
   "outputs": [
    {
     "output_type": "error",
     "ename": "ValueError",
     "evalue": "list.remove(x): x not in list",
     "traceback": [
      "\u001b[1;31m---------------------------------------------------------------------------\u001b[0m",
      "\u001b[1;31mValueError\u001b[0m                                Traceback (most recent call last)",
      "\u001b[1;32m~\\AppData\\Local\\Temp/ipykernel_18776/202824577.py\u001b[0m in \u001b[0;36m<module>\u001b[1;34m\u001b[0m\n\u001b[0;32m      1\u001b[0m \u001b[0mlista\u001b[0m\u001b[1;33m=\u001b[0m\u001b[1;33m[\u001b[0m\u001b[1;34m'A'\u001b[0m\u001b[1;33m,\u001b[0m\u001b[1;34m'a'\u001b[0m\u001b[1;33m,\u001b[0m\u001b[1;34m'A'\u001b[0m\u001b[1;33m]\u001b[0m\u001b[1;33m\u001b[0m\u001b[1;33m\u001b[0m\u001b[0m\n\u001b[0;32m      2\u001b[0m \u001b[0mlista\u001b[0m\u001b[1;33m.\u001b[0m\u001b[0mremove\u001b[0m\u001b[1;33m(\u001b[0m\u001b[1;34m'a'\u001b[0m\u001b[1;33m)\u001b[0m\u001b[1;33m\u001b[0m\u001b[1;33m\u001b[0m\u001b[0m\n\u001b[1;32m----> 3\u001b[1;33m \u001b[0mlista\u001b[0m\u001b[1;33m.\u001b[0m\u001b[0mremove\u001b[0m\u001b[1;33m(\u001b[0m\u001b[1;34m'a'\u001b[0m\u001b[1;33m)\u001b[0m\u001b[1;33m\u001b[0m\u001b[1;33m\u001b[0m\u001b[0m\n\u001b[0m",
      "\u001b[1;31mValueError\u001b[0m: list.remove(x): x not in list"
     ]
    }
   ],
   "metadata": {}
  }
 ],
 "metadata": {
  "orig_nbformat": 4,
  "language_info": {
   "name": "python",
   "version": "3.9.7",
   "mimetype": "text/x-python",
   "codemirror_mode": {
    "name": "ipython",
    "version": 3
   },
   "pygments_lexer": "ipython3",
   "nbconvert_exporter": "python",
   "file_extension": ".py"
  },
  "kernelspec": {
   "name": "python3",
   "display_name": "Python 3.9.7 64-bit"
  },
  "interpreter": {
   "hash": "09d8611f38b064ca2594bca0cde57f51ccc32e33177f657a36872d444ba23277"
  }
 },
 "nbformat": 4,
 "nbformat_minor": 2
}