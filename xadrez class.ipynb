{
 "cells": [
  {
   "cell_type": "code",
   "execution_count": 33,
   "source": [
    "import copy"
   ],
   "outputs": [],
   "metadata": {}
  },
  {
   "cell_type": "code",
   "execution_count": 257,
   "source": [
    "class Conversa:\r\n",
    "    def __init__(self,pergunta,resposta=[],cod_resposta=[]):\r\n",
    "        self.pergunta=pergunta\r\n",
    "        self.resposta=resposta\r\n",
    "        self.cod_resposta=cod_resposta\r\n",
    "        dicionario=dict(zip(self.resposta,self.cod_resposta))\r\n",
    "    \r\n",
    "\r\n",
    "    def setrespostas(self,respostas,cod_respostas):\r\n",
    "        for i in respostas:\r\n",
    "            if i in self.resposta:\r\n",
    "                print('tem resposta repetida')\r\n",
    "                return\r\n",
    "        self.resposta=(self.resposta+respostas)\r\n",
    "        self.cod_resposta=self.cod_resposta+[cod_respostas]*len(respostas)\r\n",
    "        dicionario=dict(zip(self.resposta,self.cod_resposta))\r\n",
    "\r\n",
    "\r\n",
    "    def playstr(self,confirma=True,minuscula=True):\r\n",
    "        dicionario=dict(zip(self.resposta,self.cod_resposta))\r\n",
    "        if minuscula:\r\n",
    "            self.resposta=([i.lower() for i in self.resposta])\r\n",
    "            dicionario=dict(zip(self.resposta,self.cod_resposta))\r\n",
    "        \r\n",
    "        a='2Rkk39'\r\n",
    "        contador=0\r\n",
    "        bteste= True\r\n",
    "        while not a.lower() in self.resposta and bteste==True:\r\n",
    "            contador+=1\r\n",
    "            a=input(self.pergunta)\r\n",
    "            if contador > 4 and contador%3==2:\r\n",
    "                print(f'''as respostas possiveis são {\"' - '\".join(self.resposta)}''')\r\n",
    "            if confirma:\r\n",
    "                sim=['sim','yes','desejo','ss']\r\n",
    "                nao=['não','nao','no','nop','não desejo','nao confirmo','não confirmo','n','nn']\r\n",
    "                b='aaaaaaa'\r\n",
    "                while not b.lower() in sim+nao:\r\n",
    "                    b=input(f'''Confirma que a sua resposta é '{a}' ?''')\r\n",
    "                if b.lower() in sim:\r\n",
    "                    bteste=False\r\n",
    "                if b.lower() in nao:\r\n",
    "                    a='RjKjmkLmk98556'\r\n",
    "        return dicionario[a]\r\n",
    "\r\n",
    "\r\n",
    "    def playnum(self,chave=int,confirma=True,limites=(False,[0,0])):\r\n",
    "        a='KlKh95+68,,,,s'\r\n",
    "        bteste=True\r\n",
    "        if chave!=int and chave!=float:\r\n",
    "            print('Por favor defina uma chave!!')\r\n",
    "            return\r\n",
    "        while not a.isdigit() and bteste==True:\r\n",
    "            a=input(self.pergunta)\r\n",
    "            if a[0]=='-':\r\n",
    "                correcao=-1\r\n",
    "                a=a[1:]\r\n",
    "            else:\r\n",
    "                correcao=1\r\n",
    "\r\n",
    "            limites1=[i+0.0 for i in limites[1]]\r\n",
    "\r\n",
    "            aa=float(a)*correcao\r\n",
    "\r\n",
    "            if limites[0]:\r\n",
    "                if len(limites[1])>2 and not aa in limites1:\r\n",
    "                    print(f'''{aa} está fora do limite definido como: {\";\".join([str(i) for i in limites[1]])}''')\r\n",
    "                    a='errou vamos dnv'\r\n",
    "                    continue\r\n",
    "                elif aa<min(limites[1]) or aa>max(limites[1]):\r\n",
    "                    print(f'{aa} está fora do intervalo definido como: {min(limites[1])}, {max(limites[1])}')\r\n",
    "                    bteste=True\r\n",
    "                    a='skaoko'\r\n",
    "                    continue\r\n",
    "\r\n",
    "            if confirma:\r\n",
    "                sim=['sim','yes','desejo','ss']\r\n",
    "                nao=['não','nao','no','nop','não desejo','nao confirmo','não confirmo','n','nn']\r\n",
    "                b='aaaaaaa'\r\n",
    "                while not b.lower() in sim+nao:\r\n",
    "                    b=input(f'''Confirma que a sua resposta é '{aa}' ?''')\r\n",
    "                if b.lower() in sim:\r\n",
    "                    bteste=False\r\n",
    "                if b.lower() in nao:\r\n",
    "                    a='RjKjmkLmk98556'\r\n",
    "                    continue\r\n",
    "        a=aa\r\n",
    "        if chave==int:\r\n",
    "            a=int(float(a))\r\n",
    "        elif chave==float:\r\n",
    "            a=float(a)\r\n",
    "        return a\r\n",
    "                    \r\n",
    "    def show(self):\r\n",
    "        dicionario=dict(zip(self.resposta,self.cod_resposta))\r\n",
    "        print(self.pergunta,'\\n')\r\n",
    "        for i in set(self.cod_resposta):\r\n",
    "            texto=[j for j in self.resposta if dicionario[j]==i]\r\n",
    "            print(f'chave:{i} \\nrespostas: {texto} \\n \\n ')\r\n",
    "    \r\n",
    "    def delcode(self,cod):\r\n",
    "        dicionario=dict(zip(self.resposta,self.cod_resposta))\r\n",
    "        self.resposta=[i for i in self.resposta if dicionario[i] != cod]\r\n",
    "        self.cod_resposta=[i for i in self.cod_resposta if i!= cod]"
   ],
   "outputs": [],
   "metadata": {}
  },
  {
   "cell_type": "code",
   "execution_count": 198,
   "source": [
    "letras=['A','B','C','D','E','F','G','H']\r\n",
    "tabuleiro_vazio=[]\r\n",
    "for i in range(7,-1,-1):\r\n",
    "    linha=[]\r\n",
    "    for k in range(8):\r\n",
    "        linha.append(letras[k]+str(i+1))\r\n",
    "    tabuleiro_vazio.append(linha)"
   ],
   "outputs": [],
   "metadata": {}
  },
  {
   "cell_type": "code",
   "execution_count": 199,
   "source": [
    "jogo_start=[['NeT', 'NeC', 'NeB', 'NeD', 'NeR', 'NeB', 'NeC', 'NeT'],\r\n",
    " ['NeP', 'NeP', 'NeP', 'NeP', 'NeP', 'NeP', 'NeP', 'NeP'],\r\n",
    " ['', '', '', '', '', '', '', ''],\r\n",
    " ['', '', '', '', '', '', '', ''],\r\n",
    " ['', '', '', '', '', '', '', ''],\r\n",
    " ['', '', '', '', '', '', '', ''],\r\n",
    " ['BrP', 'BrP', 'BrP', 'BrP', 'BrP', 'BrP', 'BrP', 'BrP'],\r\n",
    " ['BrT', 'BrC', 'BrB', 'BrD', 'BrR', 'BrB', 'BrC', 'BrT']]\r\n"
   ],
   "outputs": [],
   "metadata": {}
  },
  {
   "cell_type": "code",
   "execution_count": null,
   "source": [
    "rei=[[-1, -1], [-1, 0], [-1, 1], [0, -1], [0, 0], [0, 1], [1, -1], [1, 0], [1, 1]]\r\n",
    "cavalo=[[2, 1], [1, 2], [2, -1], [-1, 2], [-2, 1], [1, -2], [-2, -1], [-1, -2]]\r\n",
    "\r\n",
    "torre=[ ([i,0],[0,i]) for i in range(-8,9)]\r\n",
    "torre=[i[0] for i in torre]+[i[1] for i in torre]\r\n",
    "\r\n",
    "\r\n",
    "bispo=[[i,i] for i in range(-8,9)]\r\n",
    "bispo+=[[i,-i] for i in range(-8,9)]\r\n",
    "\r\n",
    "dama=torre+bispo\r\n",
    "\r\n",
    "peao_b=[[1,0],[2,0],[1,1],[1,-1]]\r\n",
    "peao_n=[[-1,0],[-2,0],[-1,-1],[-1,1]]"
   ],
   "outputs": [],
   "metadata": {}
  },
  {
   "cell_type": "code",
   "execution_count": 200,
   "source": [
    "def let_num(texto):\r\n",
    "    i=letras.index(texto[0])\r\n",
    "    j=8-int(texto[1])\r\n",
    "    return j,i\r\n",
    "print(let_num('E1'))\r\n",
    "print(jogo_start[7][4])\r\n",
    "\r\n",
    "\r\n"
   ],
   "outputs": [
    {
     "output_type": "stream",
     "name": "stdout",
     "text": [
      "(7, 4)\n",
      "BrR\n"
     ]
    }
   ],
   "metadata": {}
  },
  {
   "cell_type": "code",
   "execution_count": 202,
   "source": [
    "def movimento(posicao,linhas,colunas,jogo):\r\n",
    "    'Aplica o movimento atualizando a matriz jogo'\r\n",
    "  \r\n",
    "    jogo1=[i[:] for i in copy.deepcopy(jogo)] ########## Não sei porque mas o copy() não trabalha tive que jogar um bomba nuclear pra ele começar a funcionar\r\n",
    "\r\n",
    "    i,j=let_num(posicao) #pega a posição em texto e transforma pra número\r\n",
    "    peca=jogo1[i][j] #salva a peça\r\n",
    "    jogo1[i][j]=\"\" # apaga a peça\r\n",
    "\r\n",
    "    i-=linhas\r\n",
    "    j+=colunas\r\n",
    "    jogo1[i][j]=peca #coloca a peça\r\n",
    "    return jogo1 #retorna o novo jogo\r\n",
    "\r\n",
    "a=movimento('G1',2,-1,jogo_start)\r\n",
    "#Cavalo de G1 pra F3 \r\n",
    "#for i in jogo_start:\r\n",
    "#    print(i)"
   ],
   "outputs": [],
   "metadata": {}
  },
  {
   "cell_type": "code",
   "execution_count": 229,
   "source": [
    "def destino(posicao,linhas,colunas):\r\n",
    "    'Retorna a casa destino dada uma posição inicial + linhas e colunas que deseja movimentar, retorna uma posicao'\r\n",
    "    i,j=let_num(posicao) #pega a posição em texto e transforma pra número\r\n",
    "\r\n",
    "    i-=linhas\r\n",
    "    j+=colunas\r\n",
    "    if i > 7 or j>8:\r\n",
    "        return \"\"\r\n",
    "    elif i<0 or j<0:\r\n",
    "        return \"\"\r\n",
    "    else:\r\n",
    "        return tabuleiro_vazio[i][j] #retorna nova posição"
   ],
   "outputs": [],
   "metadata": {}
  },
  {
   "cell_type": "code",
   "execution_count": 236,
   "source": [],
   "outputs": [
    {
     "output_type": "execute_result",
     "data": {
      "text/plain": [
       "''"
      ]
     },
     "metadata": {},
     "execution_count": 236
    }
   ],
   "metadata": {}
  },
  {
   "cell_type": "code",
   "execution_count": 245,
   "source": [
    "def search_peca(posicao,jogo,cor=False):\r\n",
    "    'Dada a posição da peça e o jogo vc sabe qual peça esta naquela posição'\r\n",
    "    i,j=let_num(posicao)\r\n",
    "    if cor==True:\r\n",
    "        if jogo[i][j]==\"\":\r\n",
    "            pass\r\n",
    "        else:\r\n",
    "            return jogo[i][j][0]\r\n",
    "\r\n",
    "    return jogo[i][j]"
   ],
   "outputs": [],
   "metadata": {}
  },
  {
   "cell_type": "code",
   "execution_count": 249,
   "source": [
    "\r\n",
    "def apenas_dentro_tabuleiro(posicao,lista):\r\n",
    "    'Dada uma lista de movimentos possiveis (linhas e coluna) essa função elimina todas que estão fora do tabuleiro'\r\n",
    "    retorno=[]\r\n",
    "    for x,y in lista:\r\n",
    "        if destino(posicao,x,y)!=\"\":\r\n",
    "            retorno.append([x,y])\r\n",
    "    return retorno\r\n",
    "\r\n",
    "def anti_sobreposicao(jogo,posicao:str,conjunto:list):\r\n",
    "    'Dada uma lista de possiveis movimentos, a função elimina movimentos que causariam sobreposição (peça branca em cima de peça branca)'\r\n",
    "    jogo1=[i[:] for i in copy.deepcopy(jogo)]\r\n",
    "    peca=search_peca(posicao,jogo1)\r\n",
    "    cor=peca[0]\r\n",
    "    retorno=[]\r\n",
    "    for x,y in conjunto:\r\n",
    "        if search_peca(destino(posicao,x,y),jogo1,True)!=cor:\r\n",
    "            retorno.append([x,y])\r\n",
    "    return retorno\r\n"
   ],
   "outputs": [],
   "metadata": {}
  },
  {
   "cell_type": "code",
   "execution_count": 254,
   "source": [
    "def jogadas_possiveis(posicao:str,jogo:list,tipo= str):\r\n",
    "    jogo1=[i[:] for i in copy.deepcopy(jogo)]\r\n",
    "\r\n",
    "    i,j=let_num(posicao)\r\n",
    "    peca=jogo1[i][j]\r\n",
    "    print(peca)\r\n",
    "    cor=peca[0]\r\n",
    "    conjunto=[]\r\n",
    "    \r\n",
    "    if peca[-1]=='R':#Rei\r\n",
    "        conjunto=rei\r\n",
    "\r\n",
    "    conjunto=apenas_dentro_tabuleiro(posicao,conjunto)\r\n",
    "    conjunto=anti_sobreposicao(jogo1,posicao,conjunto)\r\n",
    "    print(conjunto)\r\n",
    "\r\n",
    "\r\n",
    "\r\n",
    "    conjunto=[i for i in conjunto if not i==\"\"]\r\n",
    "\r\n",
    "    if tipo==str:\r\n",
    "        conjunto=[ destino(posicao,x,y) for x,y in conjunto ]\r\n",
    "    return conjunto\r\n",
    "    "
   ],
   "outputs": [],
   "metadata": {}
  },
  {
   "cell_type": "code",
   "execution_count": 242,
   "source": [
    "jogo_input=movimento('E2',2,0,jogo_start)"
   ],
   "outputs": [],
   "metadata": {}
  },
  {
   "cell_type": "code",
   "execution_count": 256,
   "source": [
    "jogadas_possiveis('E1',jogo_input,int)"
   ],
   "outputs": [
    {
     "output_type": "stream",
     "name": "stdout",
     "text": [
      "BrR\n",
      "[[1, 0]]\n"
     ]
    },
    {
     "output_type": "execute_result",
     "data": {
      "text/plain": [
       "[[1, 0]]"
      ]
     },
     "metadata": {},
     "execution_count": 256
    }
   ],
   "metadata": {}
  },
  {
   "cell_type": "code",
   "execution_count": 91,
   "source": [
    "let_num('A5')"
   ],
   "outputs": [
    {
     "output_type": "execute_result",
     "data": {
      "text/plain": [
       "'BrD'"
      ]
     },
     "metadata": {},
     "execution_count": 91
    }
   ],
   "metadata": {}
  },
  {
   "cell_type": "code",
   "execution_count": null,
   "source": [
    "class Chess():\r\n",
    "    def __init__(self):\r\n",
    "        self.vez=0 #brancas\r\n",
    "        self.jogadores='Br'\r\n",
    "        self.jogo=jogo_start\r\n",
    "\r\n",
    "    def play(self):\r\n",
    "        for i in tabuleiro_vazio:\r\n",
    "            print(i)\r\n",
    "        print(\"\\n\\n\")\r\n",
    "        for i in self.jogo:\r\n",
    "            print (i)\r\n",
    "        pergunta=input('Deseja jogar de BRANCAS?')\r\n",
    "        if pergunta.lower() in ['sim','si','s','desejo','quero','yes','ok','qero','qiero']:\r\n",
    "            while True:\r\n",
    "                "
   ],
   "outputs": [],
   "metadata": {}
  }
 ],
 "metadata": {
  "orig_nbformat": 4,
  "language_info": {
   "name": "python",
   "version": "3.9.7",
   "mimetype": "text/x-python",
   "codemirror_mode": {
    "name": "ipython",
    "version": 3
   },
   "pygments_lexer": "ipython3",
   "nbconvert_exporter": "python",
   "file_extension": ".py"
  },
  "kernelspec": {
   "name": "python3",
   "display_name": "Python 3.9.7 64-bit"
  },
  "interpreter": {
   "hash": "09d8611f38b064ca2594bca0cde57f51ccc32e33177f657a36872d444ba23277"
  }
 },
 "nbformat": 4,
 "nbformat_minor": 2
}